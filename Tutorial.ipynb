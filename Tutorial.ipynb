{
 "cells": [
  {
   "cell_type": "markdown",
   "metadata": {},
   "source": [
    "This notebook contains a rough guide to running analyses. \n",
    "\n",
    "To run, you need as a minimum\n",
    "- an input file with data\n",
    "- a genome fasta file\n",
    "- a file of exons positions\n",
    "- a function or class to score the mutations\n",
    "\n",
    "The genome files and exon data can be downloaded from ensembl (see \"Reference data\" section below)"
   ]
  },
  {
   "cell_type": "markdown",
   "metadata": {},
   "source": [
    "# Basic usage"
   ]
  },
  {
   "cell_type": "code",
   "execution_count": 1,
   "metadata": {
    "ExecuteTime": {
     "end_time": "2021-10-28T13:50:44.707083Z",
     "start_time": "2021-10-28T13:50:35.673781Z"
    }
   },
   "outputs": [
    {
     "name": "stdout",
     "output_type": "stream",
     "text": [
      "Welcome to JupyROOT 6.24/06\n"
     ]
    }
   ],
   "source": [
    "from darwinian_shift import DarwinianShift, BigwigLookup"
   ]
  },
  {
   "cell_type": "code",
   "execution_count": 2,
   "metadata": {
    "ExecuteTime": {
     "end_time": "2021-10-28T13:50:44.915736Z",
     "start_time": "2021-10-28T13:50:44.789234Z"
    }
   },
   "outputs": [],
   "source": [
    "# Define a lookup to use. \n",
    "# This gives a score to each mutation. \n",
    "# The statistical tests will look for a difference between the null and observed distributions of these scores. \n",
    "# Here the scores come from a bigwig file of Phylop conservation scores\n",
    "bw = BigwigLookup(\"tests/lookup_tests/phylop_bw_section.bw\")"
   ]
  },
  {
   "cell_type": "code",
   "execution_count": 3,
   "metadata": {
    "ExecuteTime": {
     "end_time": "2021-10-28T13:50:47.606006Z",
     "start_time": "2021-10-28T13:50:44.918910Z"
    }
   },
   "outputs": [],
   "source": [
    "# Set up the project. This loads the mutation data and calculates the mutational spectrum.  \n",
    "d = DarwinianShift(\n",
    "    # For the mutation data input, can use a path to the tsv file, or pass a pandas dataframe of the mutations\n",
    "    data=\"tests/test_data/test_mutation_data.tsv\", \n",
    "    \n",
    "    # This specifies the genome used.\n",
    "    source_genome='GRCh37',  \n",
    "    \n",
    "    # This is the class the scores the mutations. Here it is Phylop conservation scores from a Bigwig file.  \n",
    "    lookup=bw\n",
    ")"
   ]
  },
  {
   "cell_type": "code",
   "execution_count": 4,
   "metadata": {
    "ExecuteTime": {
     "end_time": "2021-10-28T13:50:49.905052Z",
     "start_time": "2021-10-28T13:50:47.611875Z"
    }
   },
   "outputs": [],
   "source": [
    "# Run for a gene. This applies the scores to each mutation and runs the statistical tests. \n",
    "# The output is a Section object that stores the mutations and statistical results, \n",
    "# and has various plot functions (see Plotting results section below). \n",
    "notch3 = d.run_gene('NOTCH3')"
   ]
  },
  {
   "cell_type": "code",
   "execution_count": 5,
   "metadata": {
    "ExecuteTime": {
     "end_time": "2021-10-28T13:50:50.052425Z",
     "start_time": "2021-10-28T13:50:49.907940Z"
    }
   },
   "outputs": [
    {
     "data": {
      "text/html": [
       "<div>\n",
       "<style scoped>\n",
       "    .dataframe tbody tr th:only-of-type {\n",
       "        vertical-align: middle;\n",
       "    }\n",
       "\n",
       "    .dataframe tbody tr th {\n",
       "        vertical-align: top;\n",
       "    }\n",
       "\n",
       "    .dataframe thead th {\n",
       "        text-align: right;\n",
       "    }\n",
       "</style>\n",
       "<table border=\"1\" class=\"dataframe\">\n",
       "  <thead>\n",
       "    <tr style=\"text-align: right;\">\n",
       "      <th></th>\n",
       "      <th>chr</th>\n",
       "      <th>pos</th>\n",
       "      <th>ref</th>\n",
       "      <th>mut</th>\n",
       "      <th>aachange</th>\n",
       "      <th>score</th>\n",
       "    </tr>\n",
       "  </thead>\n",
       "  <tbody>\n",
       "    <tr>\n",
       "      <th>0</th>\n",
       "      <td>19</td>\n",
       "      <td>15302358</td>\n",
       "      <td>C</td>\n",
       "      <td>T</td>\n",
       "      <td>G305S</td>\n",
       "      <td>7.760</td>\n",
       "    </tr>\n",
       "    <tr>\n",
       "      <th>1</th>\n",
       "      <td>19</td>\n",
       "      <td>15296298</td>\n",
       "      <td>C</td>\n",
       "      <td>A</td>\n",
       "      <td>G715V</td>\n",
       "      <td>6.697</td>\n",
       "    </tr>\n",
       "    <tr>\n",
       "      <th>2</th>\n",
       "      <td>19</td>\n",
       "      <td>15296398</td>\n",
       "      <td>G</td>\n",
       "      <td>T</td>\n",
       "      <td>L682I</td>\n",
       "      <td>1.209</td>\n",
       "    </tr>\n",
       "    <tr>\n",
       "      <th>3</th>\n",
       "      <td>19</td>\n",
       "      <td>15288563</td>\n",
       "      <td>G</td>\n",
       "      <td>C</td>\n",
       "      <td>C1392W</td>\n",
       "      <td>1.555</td>\n",
       "    </tr>\n",
       "    <tr>\n",
       "      <th>4</th>\n",
       "      <td>19</td>\n",
       "      <td>15299825</td>\n",
       "      <td>G</td>\n",
       "      <td>A</td>\n",
       "      <td>G451G</td>\n",
       "      <td>0.208</td>\n",
       "    </tr>\n",
       "  </tbody>\n",
       "</table>\n",
       "</div>"
      ],
      "text/plain": [
       "  chr       pos ref mut aachange  score\n",
       "0  19  15302358   C   T    G305S  7.760\n",
       "1  19  15296298   C   A    G715V  6.697\n",
       "2  19  15296398   G   T    L682I  1.209\n",
       "3  19  15288563   G   C   C1392W  1.555\n",
       "4  19  15299825   G   A    G451G  0.208"
      ]
     },
     "execution_count": 5,
     "metadata": {},
     "output_type": "execute_result"
    }
   ],
   "source": [
    "# The mutations in the data which are in this gene/region can be seen in the observed_mutations dataframe. \n",
    "notch3.observed_mutations[['chr', 'pos', 'ref', 'mut', 'aachange', 'score']].head()"
   ]
  },
  {
   "cell_type": "code",
   "execution_count": 6,
   "metadata": {
    "ExecuteTime": {
     "end_time": "2021-10-28T13:50:50.194062Z",
     "start_time": "2021-10-28T13:50:50.062368Z"
    }
   },
   "outputs": [
    {
     "data": {
      "text/html": [
       "<div>\n",
       "<style scoped>\n",
       "    .dataframe tbody tr th:only-of-type {\n",
       "        vertical-align: middle;\n",
       "    }\n",
       "\n",
       "    .dataframe tbody tr th {\n",
       "        vertical-align: top;\n",
       "    }\n",
       "\n",
       "    .dataframe thead th {\n",
       "        text-align: right;\n",
       "    }\n",
       "</style>\n",
       "<table border=\"1\" class=\"dataframe\">\n",
       "  <thead>\n",
       "    <tr style=\"text-align: right;\">\n",
       "      <th></th>\n",
       "      <th>pos</th>\n",
       "      <th>ref</th>\n",
       "      <th>mut</th>\n",
       "      <th>aachange</th>\n",
       "      <th>score</th>\n",
       "    </tr>\n",
       "  </thead>\n",
       "  <tbody>\n",
       "    <tr>\n",
       "      <th>0</th>\n",
       "      <td>15311716</td>\n",
       "      <td>T</td>\n",
       "      <td>G</td>\n",
       "      <td>M1L</td>\n",
       "      <td>1.712</td>\n",
       "    </tr>\n",
       "    <tr>\n",
       "      <th>1</th>\n",
       "      <td>15311716</td>\n",
       "      <td>T</td>\n",
       "      <td>C</td>\n",
       "      <td>M1V</td>\n",
       "      <td>1.712</td>\n",
       "    </tr>\n",
       "    <tr>\n",
       "      <th>2</th>\n",
       "      <td>15311716</td>\n",
       "      <td>T</td>\n",
       "      <td>A</td>\n",
       "      <td>M1L</td>\n",
       "      <td>1.712</td>\n",
       "    </tr>\n",
       "    <tr>\n",
       "      <th>3</th>\n",
       "      <td>15311715</td>\n",
       "      <td>A</td>\n",
       "      <td>T</td>\n",
       "      <td>M1K</td>\n",
       "      <td>1.397</td>\n",
       "    </tr>\n",
       "    <tr>\n",
       "      <th>4</th>\n",
       "      <td>15311715</td>\n",
       "      <td>A</td>\n",
       "      <td>G</td>\n",
       "      <td>M1T</td>\n",
       "      <td>1.397</td>\n",
       "    </tr>\n",
       "  </tbody>\n",
       "</table>\n",
       "</div>"
      ],
      "text/plain": [
       "        pos ref mut aachange  score\n",
       "0  15311716   T   G      M1L  1.712\n",
       "1  15311716   T   C      M1V  1.712\n",
       "2  15311716   T   A      M1L  1.712\n",
       "3  15311715   A   T      M1K  1.397\n",
       "4  15311715   A   G      M1T  1.397"
      ]
     },
     "execution_count": 6,
     "metadata": {},
     "output_type": "execute_result"
    }
   ],
   "source": [
    "# And the null_mutations dataframe contain all possible mutations in the region. \n",
    "# This is used to generate the null model for the statistical tests\n",
    "notch3.null_mutations[['pos', 'ref', 'mut', 'aachange', 'score']].head()"
   ]
  },
  {
   "cell_type": "code",
   "execution_count": 7,
   "metadata": {
    "ExecuteTime": {
     "end_time": "2021-10-28T13:50:50.317088Z",
     "start_time": "2021-10-28T13:50:50.200755Z"
    }
   },
   "outputs": [
    {
     "data": {
      "text/plain": [
       "{'CDF_perm_glob_k3_pvalue': 0.00019998000199980003}"
      ]
     },
     "execution_count": 7,
     "metadata": {},
     "output_type": "execute_result"
    }
   ],
   "source": [
    "# Get p-values from any statistical tests\n",
    "notch3.get_pvalues()"
   ]
  },
  {
   "cell_type": "code",
   "execution_count": 8,
   "metadata": {
    "ExecuteTime": {
     "end_time": "2021-10-28T13:50:50.446556Z",
     "start_time": "2021-10-28T13:50:50.322730Z"
    }
   },
   "outputs": [
    {
     "data": {
      "text/plain": [
       "{'gene': 'NOTCH3',\n",
       " 'transcript_id': 'ENST00000263388',\n",
       " 'chrom': '19',\n",
       " 'section_id': 'ENST00000263388',\n",
       " 'num_mutations': 294,\n",
       " 'observed_median': 5.512500047683716,\n",
       " 'observed_mean': 4.612350358798796,\n",
       " 'expected_median_glob_k3': 1.805999994277954,\n",
       " 'median_shift_glob_k3': 3.7065000534057617,\n",
       " 'expected_mean_glob_k3': 2.6408225760543673,\n",
       " 'mean_shift_glob_k3': 1.9715277827444289,\n",
       " 'CDF_perm_glob_k3_num_smaller_or_equal': 10001,\n",
       " 'CDF_perm_glob_k3_num_larger_or_equal': 1,\n",
       " 'CDF_perm_glob_k3_pvalue': 0.00019998000199980003,\n",
       " 'CDF_perm_glob_k3_cdf_mean': 0.660720474107507}"
      ]
     },
     "execution_count": 8,
     "metadata": {},
     "output_type": "execute_result"
    }
   ],
   "source": [
    "# Get a dictionary containing more details of the statistics\n",
    "# In this case, \n",
    "# the conservation scores of the observed mutations are higher than the null (obs. mean=4.6 vs null mean=2.6)\n",
    "# and this difference is statistically significant (p<0.0002)\n",
    "notch3.get_results_dictionary()"
   ]
  },
  {
   "cell_type": "markdown",
   "metadata": {},
   "source": [
    "# Reference data"
   ]
  },
  {
   "cell_type": "markdown",
   "metadata": {},
   "source": [
    "A reference genome and a file with exon start and end locations is required to run the analysis.   \n",
    "These can be downloaded from ensembl.   \n",
    "\n",
    "This can be done manually, or a couple of functions are available to automatically download the requested files.  "
   ]
  },
  {
   "cell_type": "markdown",
   "metadata": {},
   "source": [
    "## Reference genome files"
   ]
  },
  {
   "cell_type": "markdown",
   "metadata": {},
   "source": [
    "These fasta files need to be compressed using bgzip and indexed using samtools faidx.   \n",
    "If downloading a .fa.gz file, first unzip before recompressing and indexing:   \n",
    "```\n",
    "> gunzip assembly.fa.gz\n",
    "> bgzip assembly.fa\n",
    "> samtools faidx assembly.fa.gz\n",
    "```\n",
    "\n",
    "This compressing and indexing is done as part of the download functions described below. "
   ]
  },
  {
   "cell_type": "markdown",
   "metadata": {},
   "source": [
    "## Exon file formats"
   ]
  },
  {
   "cell_type": "markdown",
   "metadata": {},
   "source": [
    "The file of exon locations can be downloaded from Ensembl Biomart (or using one of the functions described below).   \n",
    "The required columns are:\n",
    "- Gene stable ID\n",
    "- Transcript stable ID\n",
    "- Chromosome/scaffold name\n",
    "- Strand\n",
    "- CDS Length\n",
    "- Exon rank in transcript\n",
    "- Genomic coding start\n",
    "- Genomic coding end\n",
    "- Gene name"
   ]
  },
  {
   "cell_type": "code",
   "execution_count": 9,
   "metadata": {
    "ExecuteTime": {
     "end_time": "2021-10-28T13:50:50.728598Z",
     "start_time": "2021-10-28T13:50:50.450199Z"
    }
   },
   "outputs": [
    {
     "data": {
      "text/html": [
       "<div>\n",
       "<style scoped>\n",
       "    .dataframe tbody tr th:only-of-type {\n",
       "        vertical-align: middle;\n",
       "    }\n",
       "\n",
       "    .dataframe tbody tr th {\n",
       "        vertical-align: top;\n",
       "    }\n",
       "\n",
       "    .dataframe thead th {\n",
       "        text-align: right;\n",
       "    }\n",
       "</style>\n",
       "<table border=\"1\" class=\"dataframe\">\n",
       "  <thead>\n",
       "    <tr style=\"text-align: right;\">\n",
       "      <th></th>\n",
       "      <th>Gene stable ID</th>\n",
       "      <th>Transcript stable ID</th>\n",
       "      <th>Chromosome/scaffold name</th>\n",
       "      <th>Strand</th>\n",
       "      <th>CDS Length</th>\n",
       "      <th>Exon rank in transcript</th>\n",
       "      <th>Genomic coding start</th>\n",
       "      <th>Genomic coding end</th>\n",
       "      <th>Gene name</th>\n",
       "    </tr>\n",
       "  </thead>\n",
       "  <tbody>\n",
       "    <tr>\n",
       "      <th>0</th>\n",
       "      <td>ENSG00000130522</td>\n",
       "      <td>ENST00000600972</td>\n",
       "      <td>19</td>\n",
       "      <td>-1</td>\n",
       "      <td>500.0</td>\n",
       "      <td>1</td>\n",
       "      <td>18391266.0</td>\n",
       "      <td>18391739.0</td>\n",
       "      <td>JUND</td>\n",
       "    </tr>\n",
       "    <tr>\n",
       "      <th>1</th>\n",
       "      <td>ENSG00000130522</td>\n",
       "      <td>ENST00000600972</td>\n",
       "      <td>19</td>\n",
       "      <td>-1</td>\n",
       "      <td>500.0</td>\n",
       "      <td>2</td>\n",
       "      <td>18390829.0</td>\n",
       "      <td>18390854.0</td>\n",
       "      <td>JUND</td>\n",
       "    </tr>\n",
       "    <tr>\n",
       "      <th>2</th>\n",
       "      <td>ENSG00000130522</td>\n",
       "      <td>ENST00000252818</td>\n",
       "      <td>19</td>\n",
       "      <td>-1</td>\n",
       "      <td>1044.0</td>\n",
       "      <td>1</td>\n",
       "      <td>18391251.0</td>\n",
       "      <td>18392294.0</td>\n",
       "      <td>JUND</td>\n",
       "    </tr>\n",
       "    <tr>\n",
       "      <th>3</th>\n",
       "      <td>ENSG00000130520</td>\n",
       "      <td>ENST00000593829</td>\n",
       "      <td>19</td>\n",
       "      <td>-1</td>\n",
       "      <td>420.0</td>\n",
       "      <td>1</td>\n",
       "      <td>18433828.0</td>\n",
       "      <td>18433830.0</td>\n",
       "      <td>LSM4</td>\n",
       "    </tr>\n",
       "    <tr>\n",
       "      <th>4</th>\n",
       "      <td>ENSG00000130520</td>\n",
       "      <td>ENST00000593829</td>\n",
       "      <td>19</td>\n",
       "      <td>-1</td>\n",
       "      <td>420.0</td>\n",
       "      <td>2</td>\n",
       "      <td>18426834.0</td>\n",
       "      <td>18426875.0</td>\n",
       "      <td>LSM4</td>\n",
       "    </tr>\n",
       "  </tbody>\n",
       "</table>\n",
       "</div>"
      ],
      "text/plain": [
       "    Gene stable ID Transcript stable ID  Chromosome/scaffold name  Strand  \\\n",
       "0  ENSG00000130522      ENST00000600972                        19      -1   \n",
       "1  ENSG00000130522      ENST00000600972                        19      -1   \n",
       "2  ENSG00000130522      ENST00000252818                        19      -1   \n",
       "3  ENSG00000130520      ENST00000593829                        19      -1   \n",
       "4  ENSG00000130520      ENST00000593829                        19      -1   \n",
       "\n",
       "   CDS Length  Exon rank in transcript  Genomic coding start  \\\n",
       "0       500.0                        1            18391266.0   \n",
       "1       500.0                        2            18390829.0   \n",
       "2      1044.0                        1            18391251.0   \n",
       "3       420.0                        1            18433828.0   \n",
       "4       420.0                        2            18426834.0   \n",
       "\n",
       "   Genomic coding end Gene name  \n",
       "0          18391739.0      JUND  \n",
       "1          18390854.0      JUND  \n",
       "2          18392294.0      JUND  \n",
       "3          18433830.0      LSM4  \n",
       "4          18426875.0      LSM4  "
      ]
     },
     "execution_count": 9,
     "metadata": {},
     "output_type": "execute_result"
    }
   ],
   "source": [
    "# Example file\n",
    "import pandas as pd\n",
    "pd.read_csv(\"tests/test_data/test_exon_data.tsv\", sep=\"\\t\").head()"
   ]
  },
  {
   "cell_type": "markdown",
   "metadata": {},
   "source": [
    "## Functions to download the reference data"
   ]
  },
  {
   "cell_type": "markdown",
   "metadata": {},
   "source": [
    "There are a couple of functions available to download reference files and store in the `darwinian_shift/reference_data` directory   \n",
    "\n",
    "These are set up to download GRCh37 or the latest version of a genome for a given species.   \n",
    "Files can be downloaded manually for any other cases.   "
   ]
  },
  {
   "cell_type": "code",
   "execution_count": 10,
   "metadata": {
    "ExecuteTime": {
     "end_time": "2021-10-28T13:50:50.875541Z",
     "start_time": "2021-10-28T13:50:50.768218Z"
    }
   },
   "outputs": [],
   "source": [
    "from darwinian_shift import download_reference_data_from_latest_ensembl, download_grch37_reference_data"
   ]
  },
  {
   "cell_type": "code",
   "execution_count": 11,
   "metadata": {
    "ExecuteTime": {
     "end_time": "2021-10-28T13:50:50.993861Z",
     "start_time": "2021-10-28T13:50:50.881018Z"
    }
   },
   "outputs": [],
   "source": [
    "# This will download the human genome reference GRCh37 and a file of exon locations\n",
    "# download_grch37_reference_data()"
   ]
  },
  {
   "cell_type": "code",
   "execution_count": 12,
   "metadata": {
    "ExecuteTime": {
     "end_time": "2021-10-28T13:50:51.107226Z",
     "start_time": "2021-10-28T13:50:50.998518Z"
    }
   },
   "outputs": [],
   "source": [
    "# Or use this function to get the latest version of a particular genome and the accompanying exon locations \n",
    "# For example, for mouse\n",
    "# download_reference_data_from_latest_ensembl('mus_musculus')"
   ]
  },
  {
   "cell_type": "markdown",
   "metadata": {},
   "source": [
    "## Different ways of specifying reference data"
   ]
  },
  {
   "cell_type": "markdown",
   "metadata": {},
   "source": [
    "There are few options for specifying the reference data files.   \n",
    "If the reference data does not match the mutation data, errors will be raised or warnings given.   "
   ]
  },
  {
   "cell_type": "code",
   "execution_count": 13,
   "metadata": {
    "ExecuteTime": {
     "end_time": "2021-10-28T13:50:56.012019Z",
     "start_time": "2021-10-28T13:50:51.115194Z"
    }
   },
   "outputs": [],
   "source": [
    "# Specify the source genome:\n",
    "# (This likely won't work unless you have downloaded the mouse reference data using the function above)\n",
    "d = DarwinianShift(\n",
    "    data=\"tests/test_data/mouse_muts.tsv\", \n",
    "    source_genome='mus_musculus'\n",
    ")"
   ]
  },
  {
   "cell_type": "code",
   "execution_count": 14,
   "metadata": {
    "ExecuteTime": {
     "end_time": "2021-10-28T13:51:00.209905Z",
     "start_time": "2021-10-28T13:50:56.015476Z"
    }
   },
   "outputs": [],
   "source": [
    "# Alternatively, file paths for the reference data and the exon data can be given\n",
    "# This allows any fasta and exon file to be used. \n",
    "# (The file paths might need adjusting, depending on which ensembl version was used)\n",
    "d = DarwinianShift(\n",
    "    data=\"tests/test_data/mouse_muts.tsv\", \n",
    "    reference_fasta=\"darwinian_shift/reference_data/mus_musculus/ensembl-99/Mus_musculus.GRCm38.dna.primary_assembly.fa.gz\",\n",
    "    exon_file=\"darwinian_shift/reference_data/mus_musculus/ensembl-99/biomart_exons_mus_musculus.txt\"\n",
    ")"
   ]
  },
  {
   "cell_type": "code",
   "execution_count": 15,
   "metadata": {
    "ExecuteTime": {
     "end_time": "2021-10-28T13:51:04.144613Z",
     "start_time": "2021-10-28T13:51:00.212477Z"
    }
   },
   "outputs": [],
   "source": [
    "# Can also specify the ensembl release, which can be useful if genomes from multiple releases are downloaded:\n",
    "d = DarwinianShift(\n",
    "    data=\"tests/test_data/mouse_muts.tsv\", \n",
    "    source_genome='mus_musculus',\n",
    "    ensembl_release=99\n",
    ")"
   ]
  },
  {
   "cell_type": "code",
   "execution_count": 16,
   "metadata": {
    "ExecuteTime": {
     "end_time": "2021-10-28T13:51:06.697635Z",
     "start_time": "2021-10-28T13:51:04.149309Z"
    }
   },
   "outputs": [],
   "source": [
    "# Human GRCh37 is a special case that can be called like this \n",
    "d = DarwinianShift(\n",
    "    data=\"tests/test_data/test_mutation_data.tsv\", \n",
    "    source_genome='GRCh37'\n",
    ")"
   ]
  },
  {
   "cell_type": "markdown",
   "metadata": {},
   "source": [
    "# Mutation data file"
   ]
  },
  {
   "cell_type": "markdown",
   "metadata": {},
   "source": [
    "The data argument can either be the path to a tab-separated file, or a pandas dataframe.   \n",
    "The only columns required are \"chr\", \"pos\", \"ref\" and \"mut\". The column order does not matter, but those names must be the column headings.  "
   ]
  },
  {
   "cell_type": "code",
   "execution_count": 17,
   "metadata": {
    "ExecuteTime": {
     "end_time": "2021-10-28T13:51:06.838371Z",
     "start_time": "2021-10-28T13:51:06.701519Z"
    }
   },
   "outputs": [
    {
     "data": {
      "text/html": [
       "<div>\n",
       "<style scoped>\n",
       "    .dataframe tbody tr th:only-of-type {\n",
       "        vertical-align: middle;\n",
       "    }\n",
       "\n",
       "    .dataframe tbody tr th {\n",
       "        vertical-align: top;\n",
       "    }\n",
       "\n",
       "    .dataframe thead th {\n",
       "        text-align: right;\n",
       "    }\n",
       "</style>\n",
       "<table border=\"1\" class=\"dataframe\">\n",
       "  <thead>\n",
       "    <tr style=\"text-align: right;\">\n",
       "      <th></th>\n",
       "      <th>sampleID</th>\n",
       "      <th>chr</th>\n",
       "      <th>pos</th>\n",
       "      <th>ref</th>\n",
       "      <th>mut</th>\n",
       "    </tr>\n",
       "  </thead>\n",
       "  <tbody>\n",
       "    <tr>\n",
       "      <th>0</th>\n",
       "      <td>PD30272ac</td>\n",
       "      <td>19</td>\n",
       "      <td>15302358</td>\n",
       "      <td>C</td>\n",
       "      <td>T</td>\n",
       "    </tr>\n",
       "    <tr>\n",
       "      <th>1</th>\n",
       "      <td>PD30272ae</td>\n",
       "      <td>19</td>\n",
       "      <td>15296298</td>\n",
       "      <td>C</td>\n",
       "      <td>A</td>\n",
       "    </tr>\n",
       "    <tr>\n",
       "      <th>2</th>\n",
       "      <td>PD30272ah</td>\n",
       "      <td>19</td>\n",
       "      <td>15296398</td>\n",
       "      <td>G</td>\n",
       "      <td>T</td>\n",
       "    </tr>\n",
       "    <tr>\n",
       "      <th>3</th>\n",
       "      <td>PD30272aj</td>\n",
       "      <td>19</td>\n",
       "      <td>15288563</td>\n",
       "      <td>G</td>\n",
       "      <td>C</td>\n",
       "    </tr>\n",
       "    <tr>\n",
       "      <th>4</th>\n",
       "      <td>PD30272aw</td>\n",
       "      <td>19</td>\n",
       "      <td>15299825</td>\n",
       "      <td>G</td>\n",
       "      <td>A</td>\n",
       "    </tr>\n",
       "  </tbody>\n",
       "</table>\n",
       "</div>"
      ],
      "text/plain": [
       "    sampleID  chr       pos ref mut\n",
       "0  PD30272ac   19  15302358   C   T\n",
       "1  PD30272ae   19  15296298   C   A\n",
       "2  PD30272ah   19  15296398   G   T\n",
       "3  PD30272aj   19  15288563   G   C\n",
       "4  PD30272aw   19  15299825   G   A"
      ]
     },
     "execution_count": 17,
     "metadata": {},
     "output_type": "execute_result"
    }
   ],
   "source": [
    "# Example mutations in a tab separated file\n",
    "data=pd.read_csv(\"tests/test_data/test_mutation_data.tsv\", sep=\"\\t\")\n",
    "data.head()"
   ]
  },
  {
   "cell_type": "markdown",
   "metadata": {},
   "source": [
    "# More options for running"
   ]
  },
  {
   "cell_type": "markdown",
   "metadata": {},
   "source": [
    "Various options can be selected when either setting up the project or running analysis on an individual gene/region"
   ]
  },
  {
   "cell_type": "code",
   "execution_count": 18,
   "metadata": {
    "ExecuteTime": {
     "end_time": "2021-10-28T13:51:06.959376Z",
     "start_time": "2021-10-28T13:51:06.841047Z"
    }
   },
   "outputs": [],
   "source": [
    "from darwinian_shift import CDFPermutationTest, CDFZTest, BinomTest, PermutationTest\n",
    "from darwinian_shift import GlobalKmerSpectrum, TranscriptKmerSpectrum, EvenMutationalSpectrum\n",
    "from darwinian_shift import StructureDistanceLookup\n",
    "import numpy as np"
   ]
  },
  {
   "cell_type": "code",
   "execution_count": 19,
   "metadata": {
    "ExecuteTime": {
     "end_time": "2021-10-28T13:51:09.425451Z",
     "start_time": "2021-10-28T13:51:06.963801Z"
    }
   },
   "outputs": [],
   "source": [
    "d = DarwinianShift(\n",
    "    data=\"tests/test_data/test_mutation_data.tsv\", \n",
    "    source_genome='GRCh37',  \n",
    "    lookup=bw\n",
    ")"
   ]
  },
  {
   "cell_type": "code",
   "execution_count": 20,
   "metadata": {
    "ExecuteTime": {
     "end_time": "2021-10-28T13:51:09.551008Z",
     "start_time": "2021-10-28T13:51:09.429277Z"
    }
   },
   "outputs": [
    {
     "name": "stdout",
     "output_type": "stream",
     "text": [
      "\n",
      "        Run analysis for a single gene\n",
      "        :param gene:  Gene name.\n",
      "        :param plot: Will plot the standard results of the analysis. If False, can still be plotted afterwards from\n",
      "        the returned class object. Plotting afterwards also enables more plotting options.\n",
      "        :param spectra: The mutational spectrum or spectra to use for the analysis. If None, will use the spectra\n",
      "        of the project.\n",
      "        :param statistics: The statistical tests to run. If None, will use the statistics of the project.\n",
      "        :param start: Will exclude residues before this one from the analysis. If None, will start from the first\n",
      "        residue of the protein.\n",
      "        :param end: Will exclude residues after this one from the analysis. If None, will end at the last\n",
      "        residue of the protein.\n",
      "        :param excluded_mutation_types: Can be string or list of strings. Mutation types to exclude from the\n",
      "        analysis. E.g. ['synonymous', 'nonsense']. If None, will use the excluded_mutation_types of the project.\n",
      "        :param included_mutation_types: Can be string or list of strings. Mutation types to include in the\n",
      "        analysis. E.g. ['synonymous', 'nonsense']. If None, will use the included_mutation_types of the project.\n",
      "        :param included_residues: List or array of integers. The residues to analyse. If None, will analyse all\n",
      "        residues (except those excluded by other arguments).\n",
      "        :param excluded_residues: List or array of integers. The residues to exclude from the analysis.\n",
      "        :param pdb_id: For analyses that use a protein structure. Four letter ID of the pdb file to use.\n",
      "        :param pdb_chain: For analyses that use a protein structure. The chain to use for the analysis.\n",
      "        :param lookup: The class object or function used to score the mutations. If None, will use the lookup of\n",
      "        the project.\n",
      "        :param additional_kwargs: Any additional attributes that will be assigned to the Section object created.\n",
      "        These can be used by the lookup class.\n",
      "        :return: Section object\n",
      "        \n"
     ]
    }
   ],
   "source": [
    "# There are many additional options that can be used when running analysis. \n",
    "print(d.run_gene.__doc__)"
   ]
  },
  {
   "cell_type": "code",
   "execution_count": 21,
   "metadata": {
    "ExecuteTime": {
     "end_time": "2021-10-28T13:51:10.977213Z",
     "start_time": "2021-10-28T13:51:09.554306Z"
    }
   },
   "outputs": [],
   "source": [
    "# For example, the analysis does not have to be run over whole genes. \n",
    "# It can be run for a section of a gene, here residues 300-500\n",
    "notch3_section = d.run_gene(gene='NOTCH3',start=300, end=500)"
   ]
  },
  {
   "cell_type": "code",
   "execution_count": 22,
   "metadata": {
    "ExecuteTime": {
     "end_time": "2021-10-28T13:51:12.043797Z",
     "start_time": "2021-10-28T13:51:10.980819Z"
    }
   },
   "outputs": [],
   "source": [
    "# The analysis can also be run by specifying the transcript id, rather than the gene name\n",
    "notch3_263388 = d.run_transcript(transcript_id='ENST00000263388',start=300, end=500)"
   ]
  },
  {
   "cell_type": "code",
   "execution_count": 23,
   "metadata": {
    "ExecuteTime": {
     "end_time": "2021-10-28T13:51:14.893235Z",
     "start_time": "2021-10-28T13:51:12.051272Z"
    }
   },
   "outputs": [
    {
     "name": "stdout",
     "output_type": "stream",
     "text": [
      "exon_file: /Users/mh28/PycharmProjects/darwinian_shift/darwinian_shift/reference_data/homo_sapiens/ensembl-99/GRCh37/biomart_exons_homo_sapiens.txt\n",
      "reference_fasta: /Users/mh28/PycharmProjects/darwinian_shift/darwinian_shift/reference_data/homo_sapiens/ensembl-99/GRCh37/Homo_sapiens.GRCh37.dna.primary_assembly.fa.gz\n",
      "3 genes\n",
      "KEAP1:ENST00000171111 NOTCH3:ENST00000263388 AKT2:ENST00000392038 \n",
      "48 mutations not in used transcripts, of which 0 are exonic in an alternative transcript\n"
     ]
    }
   ],
   "source": [
    "# Options can be set at the start to apply to the whole project\n",
    "d2 = DarwinianShift(\n",
    "    # The basic options as before\n",
    "    data=\"tests/test_data/test_mutation_data.tsv\",\n",
    "    source_genome='GRCh37',\n",
    "    lookup=bw,\n",
    "    \n",
    "    # A list of the statistical tests to be run can be given, see \"Statistical tests\" below\n",
    "    statistics=[CDFPermutationTest(), CDFZTest(), BinomTest()],\n",
    "    \n",
    "    # MutationalSpectrum options, see \"Mutational spectrum\" below\n",
    "    spectra=[GlobalKmerSpectrum(), TranscriptKmerSpectrum(k=1), EvenMutationalSpectrum()],  \n",
    "    \n",
    "    # Options for defining the genes/transcripts to be run\n",
    "    # These are used to calculate the mutational spectrum, and if d.run_all() is used. \n",
    "    # Either a list of gene names or a list of transcripts can be given.\n",
    "    gene_list=None,  \n",
    "    transcript_list=None,\n",
    "    \n",
    "    # If not using the transcript_list, use_longest_transcript_only determines whether to run for all \n",
    "    # transcripts in each gene, or just the longest one. \n",
    "    # Warning, if running more than one transcript per gene, mutations may be double counted in the mutational spectrum\n",
    "    # In that case, spectra can be precalculated with use_longest_transcript_only=True (see \"Mutational spectrum\" below)\n",
    "    use_longest_transcript_only=True,\n",
    "    \n",
    "    # Can remove duplicate mutations (same chromosome, position, reference base and mutated base)\n",
    "    deduplicate=False,\n",
    "\n",
    "    # Options to exclude certain mutations from all tests. \n",
    "    # These will exclude from the tests, not the mutational spectrum.\n",
    "    excluded_positions=None,  # dict, key=chrom, val=positions. E.g. {'1': [1, 2, 3]}\n",
    "    excluded_mutation_types=None,   # E.g. \"synonymous\", \"missense\", \"nonsense\". Can be string or list\n",
    "    included_mutation_types=None,   # E.g. \"synonymous\", \"missense\", \"nonsense\". Can be string or list\n",
    "    \n",
    "    verbose=True   # Will print out a bit more information as it runs.  \n",
    ")"
   ]
  },
  {
   "cell_type": "code",
   "execution_count": 24,
   "metadata": {
    "ExecuteTime": {
     "end_time": "2021-10-28T13:51:16.914705Z",
     "start_time": "2021-10-28T13:51:14.902996Z"
    }
   },
   "outputs": [],
   "source": [
    "# Alternatively, options can be set for individual analyses\n",
    "notch3 = d.run_gene('NOTCH3', \n",
    "                    statistics=[CDFZTest(), PermutationTest(stat_function=np.median)],\n",
    "                    included_mutation_types=['synonymous', 'missense'],\n",
    "                    lookup=bw\n",
    "                   )"
   ]
  },
  {
   "cell_type": "code",
   "execution_count": 25,
   "metadata": {
    "ExecuteTime": {
     "end_time": "2021-10-28T13:51:18.284908Z",
     "start_time": "2021-10-28T13:51:16.918192Z"
    }
   },
   "outputs": [],
   "source": [
    "# d.run_section takes a dictionary for an argument which can be used to define many options for running. \n",
    "# These options can be passed to run_gene or run_transcript, \n",
    "# but run_section can be useful if wanting to run through a list of analyses with different options. \n",
    "notch3_section = d.run_section(\n",
    "    {\n",
    "        # The gene name or transcript id is required\n",
    "        # 'gene': 'NOTCH3', \n",
    "        'transcript_id': 'ENST00000263388',\n",
    "     \n",
    "        # Can name the section\n",
    "        'section_id': 'notch3_sectionA',\n",
    "\n",
    "        # Can define the start and end residues of the analysed region\n",
    "        'start': 1378,\n",
    "        'end': 1640,\n",
    "\n",
    "        # Can define the pdb id and chain for structural analysis\n",
    "        'pdb_id':'4ZLP', 'pdb_chain':'A',\n",
    "\n",
    "        # Can define the mutation types to include or exclude\n",
    "        'included_mutation_types':'missense',\n",
    "        # excluded_mutation_types=['synonymous', 'nonsense'],\n",
    "\n",
    "        # Can include or exclude certain residues from the analysis\n",
    "        'excluded_residues': [1400, 1401, 1408, 1409],\n",
    "        # included_residues = [...],\n",
    "\n",
    "        # the lookup to use can be defined and can be different from the project lookup, see \"Changing lookup\" below\n",
    "        'lookup': StructureDistanceLookup(pdb_directory='tests/test_data/', \n",
    "                                          sifts_directory='tests/test_data/'),\n",
    "     \n",
    "     \n",
    "        # Any additional attributes can be added that are required for the lookup\n",
    "        'target_selection' :\"protein and segid A and resid 1531 1532\"\n",
    "    }\n",
    ")\n"
   ]
  },
  {
   "cell_type": "code",
   "execution_count": 26,
   "metadata": {
    "ExecuteTime": {
     "end_time": "2021-10-28T13:51:21.571720Z",
     "start_time": "2021-10-28T13:51:18.288283Z"
    }
   },
   "outputs": [
    {
     "name": "stdout",
     "output_type": "stream",
     "text": [
      "NoMutationsError No scores for ENST00000171111 KEAP1 - Unable to run for ENST00000171111\n",
      "NoMutationsError No scores for ENST00000392038 AKT2 - Unable to run for ENST00000392038\n"
     ]
    },
    {
     "data": {
      "text/html": [
       "<div>\n",
       "<style scoped>\n",
       "    .dataframe tbody tr th:only-of-type {\n",
       "        vertical-align: middle;\n",
       "    }\n",
       "\n",
       "    .dataframe tbody tr th {\n",
       "        vertical-align: top;\n",
       "    }\n",
       "\n",
       "    .dataframe thead th {\n",
       "        text-align: right;\n",
       "    }\n",
       "</style>\n",
       "<table border=\"1\" class=\"dataframe\">\n",
       "  <thead>\n",
       "    <tr style=\"text-align: right;\">\n",
       "      <th></th>\n",
       "      <th>gene</th>\n",
       "      <th>num_mutations</th>\n",
       "      <th>expected_mean_glob_k3</th>\n",
       "      <th>observed_mean</th>\n",
       "      <th>CDF_perm_glob_k3_pvalue</th>\n",
       "    </tr>\n",
       "  </thead>\n",
       "  <tbody>\n",
       "    <tr>\n",
       "      <th>0</th>\n",
       "      <td>NOTCH3</td>\n",
       "      <td>294</td>\n",
       "      <td>2.640823</td>\n",
       "      <td>4.61235</td>\n",
       "      <td>0.0002</td>\n",
       "    </tr>\n",
       "  </tbody>\n",
       "</table>\n",
       "</div>"
      ],
      "text/plain": [
       "     gene  num_mutations  expected_mean_glob_k3  observed_mean  \\\n",
       "0  NOTCH3            294               2.640823        4.61235   \n",
       "\n",
       "   CDF_perm_glob_k3_pvalue  \n",
       "0                   0.0002  "
      ]
     },
     "execution_count": 26,
     "metadata": {},
     "output_type": "execute_result"
    }
   ],
   "source": [
    "# It is also possible to run the analysis for every gene in the dataset\n",
    "# (However, in this example the Bigwig file only contains data for NOTCH3, so the other genes cannot be run)\n",
    "d.run_all()\n",
    "d.results[['gene', 'num_mutations', 'expected_mean_glob_k3', 'observed_mean', 'CDF_perm_glob_k3_pvalue']]"
   ]
  },
  {
   "cell_type": "markdown",
   "metadata": {},
   "source": [
    "# Plotting results"
   ]
  },
  {
   "cell_type": "code",
   "execution_count": 27,
   "metadata": {
    "ExecuteTime": {
     "end_time": "2021-10-28T13:51:22.826124Z",
     "start_time": "2021-10-28T13:51:21.585542Z"
    }
   },
   "outputs": [],
   "source": [
    "notch3_section = d.run_section({'gene': 'NOTCH3', 'start': 300, 'end': 500 })"
   ]
  },
  {
   "cell_type": "code",
   "execution_count": 28,
   "metadata": {
    "ExecuteTime": {
     "end_time": "2021-10-28T13:51:23.429142Z",
     "start_time": "2021-10-28T13:51:22.842903Z"
    }
   },
   "outputs": [
    {
     "data": {
      "image/png": "[encoded data removed]",
      "text/plain": [
       "<Figure size 1080x360 with 1 Axes>"
      ]
     },
     "metadata": {
      "needs_background": "light"
     },
     "output_type": "display_data"
    }
   ],
   "source": [
    "# Can plot the position and score of every mutation. \n",
    "notch3_section.plot_scatter(base_marker_size=40, unmutated_marker_size=10)"
   ]
  },
  {
   "cell_type": "code",
   "execution_count": 29,
   "metadata": {
    "ExecuteTime": {
     "end_time": "2021-10-28T13:51:23.820728Z",
     "start_time": "2021-10-28T13:51:23.433648Z"
    }
   },
   "outputs": [
    {
     "data": {
      "image/png": "[encoded data removed]",
      "text/plain": [
       "<Figure size 360x360 with 1 Axes>"
      ]
     },
     "metadata": {
      "needs_background": "light"
     },
     "output_type": "display_data"
    }
   ],
   "source": [
    "# Boxplots of the distribution of expected and observed scores\n",
    "notch3_section.plot_boxplot()"
   ]
  },
  {
   "cell_type": "code",
   "execution_count": 30,
   "metadata": {
    "ExecuteTime": {
     "end_time": "2021-10-28T13:51:24.236601Z",
     "start_time": "2021-10-28T13:51:23.826732Z"
    }
   },
   "outputs": [
    {
     "data": {
      "image/png": "[encoded data removed]",
      "text/plain": [
       "<Figure size 360x360 with 1 Axes>"
      ]
     },
     "metadata": {
      "needs_background": "light"
     },
     "output_type": "display_data"
    }
   ],
   "source": [
    "# Can plot expected and observed cumulative distributions \n",
    "notch3_section.plot_cdfs()"
   ]
  },
  {
   "cell_type": "code",
   "execution_count": 31,
   "metadata": {
    "ExecuteTime": {
     "end_time": "2021-10-28T13:51:24.743485Z",
     "start_time": "2021-10-28T13:51:24.253066Z"
    }
   },
   "outputs": [
    {
     "data": {
      "image/png": "[encoded data removed]",
      "text/plain": [
       "<Figure size 360x360 with 1 Axes>"
      ]
     },
     "metadata": {
      "needs_background": "light"
     },
     "output_type": "display_data"
    }
   ],
   "source": [
    "# Can plot the expected mutation rate (arbitrary units) against the score\n",
    "notch3_section.plot_mutation_rate_scatter(base_marker_size=25)"
   ]
  },
  {
   "cell_type": "code",
   "execution_count": 32,
   "metadata": {
    "ExecuteTime": {
     "end_time": "2021-10-28T13:51:25.224421Z",
     "start_time": "2021-10-28T13:51:24.746470Z"
    }
   },
   "outputs": [
    {
     "data": {
      "image/png": "[encoded data removed]",
      "text/plain": [
       "<Figure size 1080x360 with 1 Axes>"
      ]
     },
     "metadata": {
      "needs_background": "light"
     },
     "output_type": "display_data"
    }
   ],
   "source": [
    "# Can plot the number of mutations observed on each residue\n",
    "notch3_section.plot_lollipop()"
   ]
  },
  {
   "cell_type": "code",
   "execution_count": 33,
   "metadata": {
    "ExecuteTime": {
     "end_time": "2021-10-28T13:51:26.259949Z",
     "start_time": "2021-10-28T13:51:25.240141Z"
    }
   },
   "outputs": [
    {
     "data": {
      "image/png": "[encoded data removed]",
      "text/plain": [
       "<Figure size 1080x360 with 1 Axes>"
      ]
     },
     "metadata": {
      "needs_background": "light"
     },
     "output_type": "display_data"
    }
   ],
   "source": [
    "# Can plot a sliding window with the expected and observed mutation density. \n",
    "notch3_section.plot_sliding_window()"
   ]
  },
  {
   "cell_type": "code",
   "execution_count": 34,
   "metadata": {
    "ExecuteTime": {
     "end_time": "2021-10-28T13:51:27.175556Z",
     "start_time": "2021-10-28T13:51:26.263356Z"
    }
   },
   "outputs": [
    {
     "data": {
      "image/png": "[encoded data removed]",
      "text/plain": [
       "<Figure size 1080x360 with 1 Axes>"
      ]
     },
     "metadata": {
      "needs_background": "light"
     },
     "output_type": "display_data"
    }
   ],
   "source": [
    "# Can also plot a sliding window with observed mutation density relative to the expected. \n",
    "notch3_section.plot_sliding_window(divide_by_expected_rate=True)"
   ]
  },
  {
   "cell_type": "markdown",
   "metadata": {},
   "source": [
    "# Lookup classes"
   ]
  },
  {
   "cell_type": "markdown",
   "metadata": {},
   "source": [
    "These are classes that lookup the given metric for every possible mutation in the given region.  \n",
    "E.g. FoldXLookup assigns the ∆∆G value calculated from FoldX to each mutation in the pdb structure.  \n",
    "\n",
    "The classes are passed a Section object when called and can use any attributes of the object to lookup/calculate the metric. (The Section class is used to represent a gene, or section of a gene to be analysed). \n",
    "\n",
    "A selection of lookup classes are available to use, but any function or class can be used as long as:\n",
    "- it takes a Section object as an argument to `__call__`\n",
    "- it returns an array of values for each of the mutations in the null_mutations dataframe of the Section."
   ]
  },
  {
   "cell_type": "markdown",
   "metadata": {},
   "source": [
    "There are various lookup classes available in the `darwinian_shift/lookup_classes/` directory.   \n",
    "Some guidance on how to use each lookup class can be seen in the docstrings.  "
   ]
  },
  {
   "cell_type": "code",
   "execution_count": 35,
   "metadata": {
    "ExecuteTime": {
     "end_time": "2021-10-28T13:51:27.287362Z",
     "start_time": "2021-10-28T13:51:27.178707Z"
    }
   },
   "outputs": [],
   "source": [
    "from darwinian_shift import FoldXLookup"
   ]
  },
  {
   "cell_type": "code",
   "execution_count": 36,
   "metadata": {
    "ExecuteTime": {
     "end_time": "2021-10-28T13:51:27.713441Z",
     "start_time": "2021-10-28T13:51:27.292615Z"
    }
   },
   "outputs": [],
   "source": [
    "FoldXLookup?"
   ]
  },
  {
   "cell_type": "code",
   "execution_count": 37,
   "metadata": {
    "ExecuteTime": {
     "end_time": "2021-10-28T13:51:27.831939Z",
     "start_time": "2021-10-28T13:51:27.717025Z"
    }
   },
   "outputs": [],
   "source": [
    "# The basic structure of lookup class is like this\n",
    "\n",
    "class MyLookup:\n",
    "    \"\"\"\n",
    "    Returns the remainder after the residue number is divided by 3. \n",
    "    \"\"\"\n",
    "    \n",
    "    def __init__(self, name='MyLookup'):\n",
    "        self.name = name\n",
    "        \n",
    "    def __call__(self, section_object):\n",
    "        return (section_object.null_mutations['residue'] % 3).astype(float)"
   ]
  },
  {
   "cell_type": "code",
   "execution_count": 38,
   "metadata": {
    "ExecuteTime": {
     "end_time": "2021-10-28T13:51:27.948563Z",
     "start_time": "2021-10-28T13:51:27.840121Z"
    }
   },
   "outputs": [],
   "source": [
    "mylook = MyLookup()"
   ]
  },
  {
   "cell_type": "code",
   "execution_count": 39,
   "metadata": {
    "ExecuteTime": {
     "end_time": "2021-10-28T13:51:30.004503Z",
     "start_time": "2021-10-28T13:51:27.953188Z"
    }
   },
   "outputs": [],
   "source": [
    "sec = d.run_gene('NOTCH3', lookup=mylook)  # Runs analysis using the new lookup (see Changing Lookup below)"
   ]
  },
  {
   "cell_type": "code",
   "execution_count": 40,
   "metadata": {
    "ExecuteTime": {
     "end_time": "2021-10-28T13:51:30.630509Z",
     "start_time": "2021-10-28T13:51:30.007254Z"
    }
   },
   "outputs": [
    {
     "data": {
      "image/png": "[encoded data removed]",
      "text/plain": [
       "<Figure size 1080x360 with 1 Axes>"
      ]
     },
     "metadata": {
      "needs_background": "light"
     },
     "output_type": "display_data"
    }
   ],
   "source": [
    "# You can see the score of each mutation is now based on the residue number. \n",
    "sec.plot_scatter(xlim=[300, 320], base_marker_size=30, unmutated_marker_size=20)"
   ]
  },
  {
   "cell_type": "code",
   "execution_count": 41,
   "metadata": {
    "ExecuteTime": {
     "end_time": "2021-10-28T13:51:30.747402Z",
     "start_time": "2021-10-28T13:51:30.636485Z"
    }
   },
   "outputs": [],
   "source": [
    "# Now to make the lookup slightly more complex to demonstrate how to use arbitrary attributes of Sections\n",
    "class MyLookup2:\n",
    "    \"\"\"\n",
    "    Returns the remainder after the residue number is divided by a given number (name divisor). \n",
    "    \"\"\"\n",
    "    \n",
    "    def __init__(self, name='MyLookup'):\n",
    "        self.name = name\n",
    "        \n",
    "    def __call__(self, section_object):\n",
    "        # Use the section_object.divisor attribute to divide the residue number and give a score\n",
    "        return (section_object.null_mutations['residue'] % section_object.divisor).astype(float)"
   ]
  },
  {
   "cell_type": "code",
   "execution_count": 42,
   "metadata": {
    "ExecuteTime": {
     "end_time": "2021-10-28T13:51:30.865776Z",
     "start_time": "2021-10-28T13:51:30.751353Z"
    }
   },
   "outputs": [],
   "source": [
    "mylook2 = MyLookup2()"
   ]
  },
  {
   "cell_type": "code",
   "execution_count": 43,
   "metadata": {
    "ExecuteTime": {
     "end_time": "2021-10-28T13:51:33.077557Z",
     "start_time": "2021-10-28T13:51:30.894074Z"
    }
   },
   "outputs": [
    {
     "data": {
      "image/png": "[encoded data removed]",
      "text/plain": [
       "<Figure size 1080x360 with 1 Axes>"
      ]
     },
     "metadata": {
      "needs_background": "light"
     },
     "output_type": "display_data"
    }
   ],
   "source": [
    "# Run gene can be given the required divisor attribute. \n",
    "# Any additional attributes can be defined in this way and accessed in a lookup class. \n",
    "sec = d.run_gene(gene='NOTCH3', divisor=4, lookup=mylook2)  \n",
    "sec.plot_scatter(xlim=[300, 320], base_marker_size=30, unmutated_marker_size=20)"
   ]
  },
  {
   "cell_type": "code",
   "execution_count": 44,
   "metadata": {
    "ExecuteTime": {
     "end_time": "2021-10-28T13:51:35.577197Z",
     "start_time": "2021-10-28T13:51:33.081290Z"
    }
   },
   "outputs": [
    {
     "data": {
      "image/png": "[encoded data removed]",
      "text/plain": [
       "<Figure size 1080x360 with 1 Axes>"
      ]
     },
     "metadata": {
      "needs_background": "light"
     },
     "output_type": "display_data"
    }
   ],
   "source": [
    "# And the analysis can be run with a different divisor, but without having to use another lookup\n",
    "sec = d.run_gene(gene='NOTCH3', divisor=5, lookup=mylook2)  \n",
    "sec.plot_scatter(xlim=[300, 320], base_marker_size=30, unmutated_marker_size=20)"
   ]
  },
  {
   "cell_type": "markdown",
   "metadata": {},
   "source": [
    "# Changing lookup"
   ]
  },
  {
   "cell_type": "markdown",
   "metadata": {},
   "source": [
    "You can change the scoring applied to the mutations without having to reload the data and recalculate the mutational spectrum.  "
   ]
  },
  {
   "cell_type": "code",
   "execution_count": 45,
   "metadata": {
    "ExecuteTime": {
     "end_time": "2021-10-28T13:51:35.687337Z",
     "start_time": "2021-10-28T13:51:35.580383Z"
    }
   },
   "outputs": [],
   "source": [
    "from darwinian_shift import ClinvarLookup"
   ]
  },
  {
   "cell_type": "code",
   "execution_count": 46,
   "metadata": {
    "ExecuteTime": {
     "end_time": "2021-10-28T13:51:35.818773Z",
     "start_time": "2021-10-28T13:51:35.693616Z"
    }
   },
   "outputs": [],
   "source": [
    "# This is a lookup that matches against variants in Clinvar\n",
    "cl = ClinvarLookup(clinvar_variant_summary_file=\"tests/test_data/clinvar_sample.txt\", \n",
    "                   assembly=\"GRCh37\")"
   ]
  },
  {
   "cell_type": "code",
   "execution_count": 47,
   "metadata": {
    "ExecuteTime": {
     "end_time": "2021-10-28T13:51:39.664457Z",
     "start_time": "2021-10-28T13:51:35.837542Z"
    }
   },
   "outputs": [
    {
     "data": {
      "image/png": "[encoded data removed]",
      "text/plain": [
       "<Figure size 144x216 with 1 Axes>"
      ]
     },
     "metadata": {
      "needs_background": "light"
     },
     "output_type": "display_data"
    }
   ],
   "source": [
    "# The lookup can be assigned when running an individual analysis, and it overrides the lookup attached to the project\n",
    "notch3_cl = d.run_gene(\"NOTCH3\", lookup=cl)\n",
    "# In this case, the number of Clinvar matching mutations is roughly what would be expected under neutral selection\n",
    "notch3_cl.plot_binomial(binom_test=BinomTest(), show_legend=False)"
   ]
  },
  {
   "cell_type": "code",
   "execution_count": 48,
   "metadata": {
    "ExecuteTime": {
     "end_time": "2021-10-28T13:51:39.779319Z",
     "start_time": "2021-10-28T13:51:39.668142Z"
    }
   },
   "outputs": [],
   "source": [
    "# Alternatively, the lookup of the whole project can be changed\n",
    "d.change_lookup(cl, inplace=True)"
   ]
  },
  {
   "cell_type": "code",
   "execution_count": 49,
   "metadata": {
    "ExecuteTime": {
     "end_time": "2021-10-28T13:51:46.382343Z",
     "start_time": "2021-10-28T13:51:39.786864Z"
    }
   },
   "outputs": [
    {
     "data": {
      "image/png": "[encoded data removed]",
      "text/plain": [
       "<Figure size 144x216 with 1 Axes>"
      ]
     },
     "metadata": {
      "needs_background": "light"
     },
     "output_type": "display_data"
    }
   ],
   "source": [
    "# Now this runs with the Clinvar lookup\n",
    "notch3_cl2 = d.run_gene('NOTCH3')\n",
    "notch3_cl2.plot_binomial(binom_test=BinomTest(), show_legend=False)"
   ]
  },
  {
   "cell_type": "markdown",
   "metadata": {},
   "source": [
    "# More complex lookup usage"
   ]
  },
  {
   "cell_type": "markdown",
   "metadata": {},
   "source": [
    "Lookups can be used in combination.    \n",
    "\n",
    "The ANDLookup tests for enrichment of mutations that are part of multiple categories.    \n",
    "The ORLookup tests for enrichment of mutations that are in any of multiple categories.   \n",
    "And the MutationExclusionLookup can be used to exclude certain categories of mutations, then use a different lookup to test within the remaining mutations.  "
   ]
  },
  {
   "cell_type": "code",
   "execution_count": 50,
   "metadata": {
    "ExecuteTime": {
     "end_time": "2021-10-28T13:51:46.490526Z",
     "start_time": "2021-10-28T13:51:46.385903Z"
    }
   },
   "outputs": [],
   "source": [
    "from darwinian_shift import ANDLookup, ORLookup, MutationExclusionLookup"
   ]
  },
  {
   "cell_type": "code",
   "execution_count": 51,
   "metadata": {
    "ExecuteTime": {
     "end_time": "2021-10-28T13:51:49.724055Z",
     "start_time": "2021-10-28T13:51:46.493687Z"
    }
   },
   "outputs": [
    {
     "data": {
      "text/plain": [
       "{'gene': 'NOTCH3',\n",
       " 'transcript_id': 'ENST00000263388',\n",
       " 'chrom': '19',\n",
       " 'section_id': 'ENST00000263388',\n",
       " 'num_mutations': 294,\n",
       " 'observed_median': 0.0,\n",
       " 'observed_mean': 0.017006802721088437,\n",
       " 'expected_median_glob_k3': 0.0,\n",
       " 'median_shift_glob_k3': 0.0,\n",
       " 'expected_mean_glob_k3': 0.0129465540074567,\n",
       " 'mean_shift_glob_k3': 0.004060248713631738,\n",
       " 'binom_glob_k3_pvalue': 0.4384357075150863,\n",
       " 'binom_glob_k3_expected_proportion': 0.012946554007456697,\n",
       " 'binom_glob_k3_observed_proportion': 0.017006802721088437,\n",
       " 'binom_glob_k3_expected_count': 3.806286878192269,\n",
       " 'binom_glob_k3_observed_count': 5,\n",
       " 'binom_glob_k3_threshold': 0.5,\n",
       " 'binom_glob_k3_expected_CI_high': 8.0,\n",
       " 'binom_glob_k3_expected_CI_low': 1.0,\n",
       " 'binom_glob_k3_observed_CI_low': 1.0,\n",
       " 'binom_glob_k3_observed_CI_high': 10.0}"
      ]
     },
     "execution_count": 51,
     "metadata": {},
     "output_type": "execute_result"
    }
   ],
   "source": [
    "# Test for enrichment of mutations with high conservation and that are pathogenic/likely pathogenic in Clinvar\n",
    "# Any mutations with a conservation score over 2 and that are also in Clinvar will have a score of 1, \n",
    "# all other mutations will have a score of zero. \n",
    "AND = ANDLookup(lookups=[bw, cl],  # Use the two lookups defined earlier\n",
    "                directions=[1, 1],  # Will include mutations above the thresholds. -1 would include mutations below the threshold. \n",
    "               thresholds=[2, 0.5]  # The threshold scores for the two lookups\n",
    "               )\n",
    "notch3_and = d.run_gene('NOTCH3', lookup=AND, statistics=BinomTest())  # Use the binomial test (see below)\n",
    "notch3_and.get_results_dictionary()"
   ]
  },
  {
   "cell_type": "code",
   "execution_count": 52,
   "metadata": {
    "ExecuteTime": {
     "end_time": "2021-10-28T13:51:53.121421Z",
     "start_time": "2021-10-28T13:51:49.727606Z"
    }
   },
   "outputs": [
    {
     "data": {
      "text/plain": [
       "{'gene': 'NOTCH3',\n",
       " 'transcript_id': 'ENST00000263388',\n",
       " 'chrom': '19',\n",
       " 'section_id': 'ENST00000263388',\n",
       " 'num_mutations': 294,\n",
       " 'observed_median': 1.0,\n",
       " 'observed_mean': 0.7142857142857143,\n",
       " 'expected_median_glob_k3': 0.0,\n",
       " 'median_shift_glob_k3': 1.0,\n",
       " 'expected_mean_glob_k3': 0.4825788853371132,\n",
       " 'mean_shift_glob_k3': 0.23170682894860112,\n",
       " 'binom_glob_k3_pvalue': 1.0342701840453376e-15,\n",
       " 'binom_glob_k3_expected_proportion': 0.4825788853371133,\n",
       " 'binom_glob_k3_observed_proportion': 0.7142857142857143,\n",
       " 'binom_glob_k3_expected_count': 141.8781922891113,\n",
       " 'binom_glob_k3_observed_count': 210,\n",
       " 'binom_glob_k3_threshold': 0.5,\n",
       " 'binom_glob_k3_expected_CI_high': 159.0,\n",
       " 'binom_glob_k3_expected_CI_low': 125.0,\n",
       " 'binom_glob_k3_observed_CI_low': 195.0,\n",
       " 'binom_glob_k3_observed_CI_high': 225.0}"
      ]
     },
     "execution_count": 52,
     "metadata": {},
     "output_type": "execute_result"
    }
   ],
   "source": [
    "# Test for enrichment of mutations with either a high conservation score or that are Clinvar pathogenic (or both)\n",
    "# Any mutations with a conservation score over 2 or that are in Clinvar will have a score of 1, \n",
    "# all other mutations will have a score of zero. \n",
    "OR = ORLookup(lookups=[bw, cl],  # Use the two lookups defined earlier\n",
    "                directions=[1, 1],  # Will include mutations above the thresholds. -1 would include mutations below the threshold. \n",
    "               thresholds=[2, 0.5]  # The threshold scores for the two lookups\n",
    "               )\n",
    "notch3_or = d.run_gene('NOTCH3', lookup=OR, statistics=BinomTest())  # Use the binomial test (see below)\n",
    "notch3_or.get_results_dictionary()"
   ]
  },
  {
   "cell_type": "code",
   "execution_count": 53,
   "metadata": {
    "ExecuteTime": {
     "end_time": "2021-10-28T13:51:57.851011Z",
     "start_time": "2021-10-28T13:51:53.125597Z"
    }
   },
   "outputs": [
    {
     "data": {
      "text/plain": [
       "{'gene': 'NOTCH3',\n",
       " 'transcript_id': 'ENST00000263388',\n",
       " 'chrom': '19',\n",
       " 'section_id': 'ENST00000263388',\n",
       " 'num_mutations': 210,\n",
       " 'observed_median': 0.0,\n",
       " 'observed_mean': 0.023809523809523808,\n",
       " 'expected_median_glob_k3': 0.0,\n",
       " 'median_shift_glob_k3': 0.0,\n",
       " 'expected_mean_glob_k3': 0.026948165653441925,\n",
       " 'mean_shift_glob_k3': -0.003138641843918117,\n",
       " 'binom_glob_k3_pvalue': 1.0,\n",
       " 'binom_glob_k3_expected_proportion': 0.026948165653441925,\n",
       " 'binom_glob_k3_observed_proportion': 0.023809523809523808,\n",
       " 'binom_glob_k3_expected_count': 5.659114787222804,\n",
       " 'binom_glob_k3_observed_count': 5,\n",
       " 'binom_glob_k3_threshold': 0.5,\n",
       " 'binom_glob_k3_expected_CI_high': 11.0,\n",
       " 'binom_glob_k3_expected_CI_low': 2.0,\n",
       " 'binom_glob_k3_observed_CI_low': 1.0,\n",
       " 'binom_glob_k3_observed_CI_high': 10.0}"
      ]
     },
     "execution_count": 53,
     "metadata": {},
     "output_type": "execute_result"
    }
   ],
   "source": [
    "# Test for enrichment of Clinvar pathogenic mutations only within mutations with a high conservation score\n",
    "EXCL = MutationExclusionLookup(\n",
    "    exclusion_lookup=bw, \n",
    "    exclusion_direction=-1,  # Will exclude mutations below the threshold. 1 would exclude mutations above the threshold. \n",
    "    exclusion_threshold=2,  # The threshold score for the bw lookup\n",
    "    lookup=cl                               \n",
    ")\n",
    "notch3_excl = d.run_gene('NOTCH3', lookup=EXCL, statistics=BinomTest())  # Use the binomial test (see below)\n",
    "notch3_excl.get_results_dictionary()\n",
    "\n",
    "# Note that 'num_mutations' is now lower, because some mutations (those with a high conservation score) \n",
    "# have been excluded from the test"
   ]
  },
  {
   "cell_type": "markdown",
   "metadata": {},
   "source": [
    "# Statistical tests"
   ]
  },
  {
   "cell_type": "markdown",
   "metadata": {},
   "source": [
    "A number of statistical tests are available. The most appropriate test to use will depend on the data.   \n",
    "The tests to use can be defined at the start of the project or when running an analysis of a gene/region.  "
   ]
  },
  {
   "cell_type": "code",
   "execution_count": 54,
   "metadata": {
    "ExecuteTime": {
     "end_time": "2021-10-28T13:51:57.969871Z",
     "start_time": "2021-10-28T13:51:57.861867Z"
    }
   },
   "outputs": [],
   "source": [
    "from darwinian_shift import CDFPermutationTest, CDFZTest, BinomTest, ChiSquareTest, PermutationTest, KSTest"
   ]
  },
  {
   "cell_type": "code",
   "execution_count": 55,
   "metadata": {
    "ExecuteTime": {
     "end_time": "2021-10-28T13:52:02.062386Z",
     "start_time": "2021-10-28T13:51:57.973350Z"
    }
   },
   "outputs": [
    {
     "data": {
      "text/plain": [
       "{'CDF_perm_glob_k3_pvalue': 0.00019998000199980003,\n",
       " 'CDF_Z_glob_k3_pvalue': 1.3438847937855815e-21,\n",
       " 'chi_square_glob_k3_pvalue': 1.519244288694345e-21,\n",
       " 'median_perm_glob_k3_pvalue': 0.00019998000199980003,\n",
       " 'ks_glob_k3_pvalue': 2.1393179139055308e-16}"
      ]
     },
     "execution_count": 55,
     "metadata": {},
     "output_type": "execute_result"
    }
   ],
   "source": [
    "notch3_section = d.run_gene(\n",
    "    \"NOTCH3\", lookup=bw, \n",
    "    statistics=[\n",
    "        # A permutation test using the CDF value of the scores. \n",
    "        # Less sensitive to outliers than a permutation test using the mean score\n",
    "        CDFPermutationTest(num_permutations=10000), \n",
    "        \n",
    "        # A normal approximation of the CDF permutation test. Faster, but not applicable in all cases. \n",
    "        CDFZTest(), \n",
    "        \n",
    "        # For categorical scores, can use a chi-square test, defining the bins\n",
    "        # May give value error if some scores (observed or not) are outside the bin range\n",
    "        ChiSquareTest(bins=[-11, 0, 5, 10]),\n",
    "        \n",
    "        # A permutation test using any function that can be applied to the mutation scores (an array of floats). \n",
    "        # Here using median\n",
    "        PermutationTest(stat_function=np.median),\n",
    "        \n",
    "        # A Kolmogorov-Smirnov test. May not be appropriate if there are many mutations with identical scores. \n",
    "        KSTest()\n",
    "    ]\n",
    ")\n",
    "notch3_section.get_pvalues()"
   ]
  },
  {
   "cell_type": "code",
   "execution_count": 56,
   "metadata": {
    "ExecuteTime": {
     "end_time": "2021-10-28T13:52:02.183050Z",
     "start_time": "2021-10-28T13:52:02.065251Z"
    }
   },
   "outputs": [
    {
     "data": {
      "text/plain": [
       "{'gene': 'NOTCH3',\n",
       " 'transcript_id': 'ENST00000263388',\n",
       " 'chrom': '19',\n",
       " 'section_id': 'ENST00000263388',\n",
       " 'num_mutations': 294,\n",
       " 'observed_median': 5.512500047683716,\n",
       " 'observed_mean': 4.612350358798796,\n",
       " 'expected_median_glob_k3': 1.805999994277954,\n",
       " 'median_shift_glob_k3': 3.7065000534057617,\n",
       " 'expected_mean_glob_k3': 2.6408225760543673,\n",
       " 'mean_shift_glob_k3': 1.9715277827444289,\n",
       " 'CDF_perm_glob_k3_num_smaller_or_equal': 10001,\n",
       " 'CDF_perm_glob_k3_num_larger_or_equal': 1,\n",
       " 'CDF_perm_glob_k3_pvalue': 0.00019998000199980003,\n",
       " 'CDF_perm_glob_k3_cdf_mean': 0.660720474107507,\n",
       " 'CDF_Z_glob_k3_pvalue': 1.3438847937855815e-21,\n",
       " 'CDF_Z_glob_k3_cdf_mean': 0.660720474107507,\n",
       " 'chi_square_glob_k3_statistic': 95.87214784028309,\n",
       " 'chi_square_glob_k3_pvalue': 1.519244288694345e-21,\n",
       " 'chi_square_glob_k3_low_count_warning': False,\n",
       " 'chi_square_glob_k3_bins': [-11, 0, 5, 10],\n",
       " 'chi_square_glob_k3_observed_counts': array([ 17, 123, 154]),\n",
       " 'chi_square_glob_k3_expected_counts': array([ 55.86218769, 155.64675559,  82.49105672]),\n",
       " 'chi_square_glob_k3_expected_CI_high': array([ 69., 172.,  98.]),\n",
       " 'chi_square_glob_k3_expected_CI_low': array([ 43., 139.,  68.]),\n",
       " 'chi_square_glob_k3_observed_CI_low': array([ 10., 107., 138.]),\n",
       " 'chi_square_glob_k3_observed_CI_high': array([ 25., 139., 171.]),\n",
       " 'median_perm_glob_k3_observed': 5.512500047683716,\n",
       " 'median_perm_glob_k3_null_mean': 1.8203199530363083,\n",
       " 'median_perm_glob_k3_null_median': 1.8055000007152557,\n",
       " 'median_perm_glob_k3_pvalue': 0.00019998000199980003,\n",
       " 'median_perm_glob_k3_num_smaller_or_equal': 10001,\n",
       " 'median_perm_glob_k3_num_larger_or_equal': 1,\n",
       " 'ks_glob_k3_statistic': 0.24786121645134362,\n",
       " 'ks_glob_k3_pvalue': 2.1393179139055308e-16}"
      ]
     },
     "execution_count": 56,
     "metadata": {},
     "output_type": "execute_result"
    }
   ],
   "source": [
    "# Some statistical tests return additional information in the results dictionary\n",
    "notch3_section.get_results_dictionary()"
   ]
  },
  {
   "cell_type": "code",
   "execution_count": 57,
   "metadata": {
    "ExecuteTime": {
     "end_time": "2021-10-28T13:52:04.121663Z",
     "start_time": "2021-10-28T13:52:02.187104Z"
    }
   },
   "outputs": [
    {
     "data": {
      "image/png": "[encoded data removed]",
      "text/plain": [
       "<Figure size 360x360 with 1 Axes>"
      ]
     },
     "metadata": {
      "needs_background": "light"
     },
     "output_type": "display_data"
    }
   ],
   "source": [
    "# The results of the chi-sq test can be plotted\n",
    "notch3_section.plot_binned_counts(figsize=(5, 5))"
   ]
  },
  {
   "cell_type": "code",
   "execution_count": 58,
   "metadata": {
    "ExecuteTime": {
     "end_time": "2021-10-28T13:52:08.550739Z",
     "start_time": "2021-10-28T13:52:04.124945Z"
    }
   },
   "outputs": [
    {
     "data": {
      "text/plain": [
       "{'gene': 'NOTCH3',\n",
       " 'transcript_id': 'ENST00000263388',\n",
       " 'chrom': '19',\n",
       " 'section_id': 'ENST00000263388',\n",
       " 'num_mutations': 294,\n",
       " 'observed_median': 0.0,\n",
       " 'observed_mean': 0.017006802721088437,\n",
       " 'expected_median_glob_k3': 0.0,\n",
       " 'median_shift_glob_k3': 0.0,\n",
       " 'expected_mean_glob_k3': 0.015145914584191665,\n",
       " 'mean_shift_glob_k3': 0.0018608881368967715,\n",
       " 'binom_glob_k3_pvalue': 0.6363819410987945,\n",
       " 'binom_glob_k3_expected_proportion': 0.015145914584191664,\n",
       " 'binom_glob_k3_observed_proportion': 0.017006802721088437,\n",
       " 'binom_glob_k3_expected_count': 4.452898887752349,\n",
       " 'binom_glob_k3_observed_count': 5,\n",
       " 'binom_glob_k3_threshold': 0.5,\n",
       " 'binom_glob_k3_expected_CI_high': 9.0,\n",
       " 'binom_glob_k3_expected_CI_low': 1.0,\n",
       " 'binom_glob_k3_observed_CI_low': 1.0,\n",
       " 'binom_glob_k3_observed_CI_high': 10.0}"
      ]
     },
     "execution_count": 58,
     "metadata": {},
     "output_type": "execute_result"
    },
    {
     "data": {
      "image/png": "[encoded data removed]",
      "text/plain": [
       "<Figure size 144x216 with 1 Axes>"
      ]
     },
     "metadata": {
      "needs_background": "light"
     },
     "output_type": "display_data"
    }
   ],
   "source": [
    "# For scores which have only two values (e.g. true or false), a binomial test can be used\n",
    "notch3_cl = d.run_gene(\"NOTCH3\", lookup=cl, statistics=BinomTest())\n",
    "notch3_cl.plot_binomial(show_legend=False)\n",
    "notch3_cl.get_results_dictionary()"
   ]
  },
  {
   "cell_type": "markdown",
   "metadata": {},
   "source": [
    "# Mutational spectrum"
   ]
  },
  {
   "cell_type": "markdown",
   "metadata": {},
   "source": [
    "The null distribution is calculated based on the mutational spectrum.  \n",
    "This spectrum can be defined in a few different ways, and must be specified at the start of a project.  \n",
    "\n",
    "The spectra are based on the nucleotide change and the surrounding context bases. The size of the context region can be adjusted.   \n",
    "\n",
    "The default option is a trinucleotide spectrum calculated from all exonic single nucleotide mutations in the data (or in the subset of data defined by the gene_list or transcript_list).   "
   ]
  },
  {
   "cell_type": "code",
   "execution_count": 59,
   "metadata": {
    "ExecuteTime": {
     "end_time": "2021-10-28T13:52:12.022125Z",
     "start_time": "2021-10-28T13:52:08.572635Z"
    }
   },
   "outputs": [],
   "source": [
    "# Set up the project. This loads the mutation data and calculates the mutational spectrum.  \n",
    "d_spec = DarwinianShift(\n",
    "    data=\"tests/test_data/test_mutation_data.tsv\", \n",
    "    source_genome='GRCh37',  \n",
    "    lookup=bw,\n",
    "    \n",
    "    statistics=[CDFPermutationTest(testing_random_seed=0)],\n",
    "    \n",
    "    # Multiple spectra can be run at the same time.  \n",
    "    spectra=[\n",
    "        # a spectrum calculated from all of the data. \n",
    "        # This will used to calculated the null for all genes/regions.\n",
    "        # k=3 means a trinucleotide signature (one context base on either side of the nucleotide change)\n",
    "        GlobalKmerSpectrum(k=3),  \n",
    "        \n",
    "        # a spectrum calculated per transcript\n",
    "        # e.g. the null for NOTCH3 ENST00000263388 will be calculated from just the mutations in ENST00000263388\n",
    "        # k=1 means no context bases are used. \n",
    "        TranscriptKmerSpectrum(k=1),   \n",
    "        \n",
    "        # a spectrum in which all mutations have equal probability of occurring. \n",
    "        EvenMutationalSpectrum()], \n",
    ")"
   ]
  },
  {
   "cell_type": "code",
   "execution_count": 60,
   "metadata": {
    "ExecuteTime": {
     "end_time": "2021-10-28T13:52:13.371669Z",
     "start_time": "2021-10-28T13:52:12.025880Z"
    }
   },
   "outputs": [
    {
     "data": {
      "text/plain": [
       "{'CDF_perm_glob_k3_pvalue': 0.012998700129987,\n",
       " 'CDF_perm_tran_k1_pvalue': 0.0321967803219678,\n",
       " 'CDF_perm_EvenMutationalSpectrum_pvalue': 0.0537946205379462}"
      ]
     },
     "execution_count": 60,
     "metadata": {},
     "output_type": "execute_result"
    }
   ],
   "source": [
    "# The statistics are run for all spectra. \n",
    "notch3 = d_spec.run_section({'gene':'NOTCH3', 'start': 300, 'end': 400})\n",
    "notch3.get_pvalues()"
   ]
  },
  {
   "cell_type": "markdown",
   "metadata": {},
   "source": [
    "For large datasets or whole exome data, the calculation of mutational spectra can be slow, so it can be useful to write the spectra to a file and load again later.  \n",
    "This can also be useful if wanting to test on a subset of genes, or on multiple overlapping transcripts from the same gene, but use a spectrum calculated from the full dataset.  "
   ]
  },
  {
   "cell_type": "code",
   "execution_count": 61,
   "metadata": {
    "ExecuteTime": {
     "end_time": "2021-10-28T13:52:13.498249Z",
     "start_time": "2021-10-28T13:52:13.375566Z"
    }
   },
   "outputs": [],
   "source": [
    "globk3 = d_spec.spectra[0]\n",
    "globk3.write_to_file(\"glob_spectrum_file.txt\")"
   ]
  },
  {
   "cell_type": "code",
   "execution_count": 62,
   "metadata": {
    "ExecuteTime": {
     "end_time": "2021-10-28T13:52:15.553823Z",
     "start_time": "2021-10-28T13:52:13.505189Z"
    }
   },
   "outputs": [],
   "source": [
    "# The spectrum file can now be used an input to the new project\n",
    "d_spec2 = DarwinianShift(\n",
    "    data=\"tests/test_data/test_mutation_data.tsv\", \n",
    "    source_genome='GRCh37',  \n",
    "    lookup=bw,\n",
    "    statistics=[CDFPermutationTest(testing_random_seed=0)],\n",
    "\n",
    "    transcript_list=['ENST00000263388', 'ENST00000601011'],  # Run two transcripts of NOTCH3\n",
    "    \n",
    "    spectra=\"glob_spectrum_file.txt\",\n",
    ")"
   ]
  },
  {
   "cell_type": "code",
   "execution_count": 63,
   "metadata": {
    "ExecuteTime": {
     "end_time": "2021-10-28T13:52:17.324710Z",
     "start_time": "2021-10-28T13:52:15.559206Z"
    }
   },
   "outputs": [
    {
     "data": {
      "text/plain": [
       "{'CDF_perm_glob_k3_pvalue': 0.012998700129987}"
      ]
     },
     "execution_count": 63,
     "metadata": {},
     "output_type": "execute_result"
    }
   ],
   "source": [
    "notch3 = d_spec2.run_transcript(transcript_id='ENST00000263388', start=300, end=400)\n",
    "notch3.get_pvalues()"
   ]
  },
  {
   "cell_type": "code",
   "execution_count": 64,
   "metadata": {
    "ExecuteTime": {
     "end_time": "2021-10-28T13:52:18.388601Z",
     "start_time": "2021-10-28T13:52:17.328799Z"
    }
   },
   "outputs": [
    {
     "data": {
      "text/plain": [
       "{'CDF_perm_glob_k3_pvalue': 0.011398860113988602}"
      ]
     },
     "execution_count": 64,
     "metadata": {},
     "output_type": "execute_result"
    }
   ],
   "source": [
    "notch3 = d_spec2.run_transcript(transcript_id='ENST00000601011', start=300, end=400)\n",
    "notch3.get_pvalues()"
   ]
  },
  {
   "cell_type": "markdown",
   "metadata": {},
   "source": [
    "# Other useful functions"
   ]
  },
  {
   "cell_type": "markdown",
   "metadata": {},
   "source": [
    "## Plotting multiple scores"
   ]
  },
  {
   "cell_type": "markdown",
   "metadata": {},
   "source": [
    "Two metrics can be plotted against each other if they have been run on the same section.   \n",
    "Mutations on this plot can also be coloured using other scores.  "
   ]
  },
  {
   "cell_type": "code",
   "execution_count": 65,
   "metadata": {
    "ExecuteTime": {
     "end_time": "2021-10-28T13:52:18.500521Z",
     "start_time": "2021-10-28T13:52:18.392465Z"
    }
   },
   "outputs": [],
   "source": [
    "from darwinian_shift import plot_scatter_two_scores, ProDyLookup"
   ]
  },
  {
   "cell_type": "code",
   "execution_count": 66,
   "metadata": {
    "ExecuteTime": {
     "end_time": "2021-10-28T13:52:20.898095Z",
     "start_time": "2021-10-28T13:52:18.503777Z"
    }
   },
   "outputs": [],
   "source": [
    "# First analyse the gene/region using two different metrics. \n",
    "\n",
    "# Conservation scores from the Phylop2 bigwig file\n",
    "bw_section = d.run_section({'gene': 'NOTCH3', 'start': 1378, 'end': 1640, 'lookup':bw, \n",
    "                            'included_mutation_types': 'missense'})\n",
    "\n",
    "# Squared fluctuations of residues in the 4ZLP structure calculated using ProDy\n",
    "anm_section = d.run_section({'gene': 'NOTCH3', 'start': 1378, 'end': 1640, 'pdb_id':'4ZLP', 'pdb_chain':'A',\n",
    "                             'included_mutation_types': 'missense',\n",
    "                             'lookup': ProDyLookup(\n",
    "                                 metric='sq_flucts_ANM',\n",
    "                                 pdb_directory=\"tests/test_data/\",\n",
    "                                 sifts_directory=\"tests/test_data/\"\n",
    "                             )})"
   ]
  },
  {
   "cell_type": "code",
   "execution_count": 67,
   "metadata": {
    "ExecuteTime": {
     "end_time": "2021-10-28T13:52:21.348149Z",
     "start_time": "2021-10-28T13:52:20.900881Z"
    }
   },
   "outputs": [
    {
     "data": {
      "image/png": "[encoded data removed]",
      "text/plain": [
       "<Figure size 360x360 with 1 Axes>"
      ]
     },
     "metadata": {
      "needs_background": "light"
     },
     "output_type": "display_data"
    }
   ],
   "source": [
    "# Then the two results can be plotted\n",
    "plot_scatter_two_scores(bw_section, anm_section, figsize=(5, 5), show_legend=False, \n",
    "                        base_marker_size=30, unmutated_marker_size=2)"
   ]
  },
  {
   "cell_type": "code",
   "execution_count": 68,
   "metadata": {
    "ExecuteTime": {
     "end_time": "2021-10-28T13:52:22.364397Z",
     "start_time": "2021-10-28T13:52:21.352279Z"
    }
   },
   "outputs": [
    {
     "data": {
      "image/png": "[encoded data removed]",
      "text/plain": [
       "<Figure size 360x360 with 1 Axes>"
      ]
     },
     "metadata": {
      "needs_background": "light"
     },
     "output_type": "display_data"
    }
   ],
   "source": [
    "# Can change the axis scaling for one score to make the spread easier to see\n",
    "plot_scatter_two_scores(bw_section, anm_section, figsize=(5, 5), show_legend=False, plot_yscale='log', \n",
    "                       base_marker_size=30, unmutated_marker_size=2)"
   ]
  },
  {
   "cell_type": "code",
   "execution_count": 69,
   "metadata": {
    "ExecuteTime": {
     "end_time": "2021-10-28T13:52:23.283784Z",
     "start_time": "2021-10-28T13:52:22.367574Z"
    }
   },
   "outputs": [
    {
     "data": {
      "image/png": "[encoded data removed]",
      "text/plain": [
       "<Figure size 360x360 with 1 Axes>"
      ]
     },
     "metadata": {
      "needs_background": "light"
     },
     "output_type": "display_data"
    }
   ],
   "source": [
    "# Want to know the mutation that has a bigwig score of between 7 and 8, a Prody score below 10-2 and is \n",
    "# observed at least 3 times?\n",
    "# To to this, mutations in selected regions of the plot can be annotated\n",
    "plot_scatter_two_scores(bw_section, anm_section, figsize=(5, 5), show_legend=False, plot_yscale='log', \n",
    "                       base_marker_size=30, unmutated_marker_size=2, \n",
    "                        # Add the arguments for the annotation\n",
    "                       annotate_mutations=True, annotate_min_count=3,\n",
    "                        annotate_xregion=(7, 8), annotate_yregion=(0, 0.01), \n",
    "                       annotation_offset=(-2, -0.003))"
   ]
  },
  {
   "cell_type": "code",
   "execution_count": 70,
   "metadata": {
    "ExecuteTime": {
     "end_time": "2021-10-28T13:52:24.070846Z",
     "start_time": "2021-10-28T13:52:23.289875Z"
    }
   },
   "outputs": [
    {
     "data": {
      "image/png": "[encoded data removed]",
      "text/plain": [
       "<Figure size 360x360 with 1 Axes>"
      ]
     },
     "metadata": {
      "needs_background": "light"
     },
     "output_type": "display_data"
    }
   ],
   "source": [
    "# Can plot lists of mutations in different colours. \n",
    "# Here want to see where S1448W and G1414C are, and where the G>A mutation at position 15281535 is. \n",
    "# Plot those in blue and red. \n",
    "plot_scatter_two_scores(bw_section, anm_section, figsize=(5, 5), show_legend=False, plot_yscale='log', \n",
    "                       base_marker_size=30, unmutated_marker_size=2, \n",
    "                        # Add the arguments for the mutations to colour\n",
    "                        mut_lists_to_colour=[['S1448W', 'G1414C'], ['15281535:G>A']], \n",
    "                        mut_list_colours=['b', 'r'], mut_list_columns=['aachange', 'ds_mut_id'])"
   ]
  },
  {
   "cell_type": "code",
   "execution_count": 71,
   "metadata": {
    "ExecuteTime": {
     "end_time": "2021-10-28T13:52:25.620973Z",
     "start_time": "2021-10-28T13:52:24.073813Z"
    }
   },
   "outputs": [],
   "source": [
    "# Can colour regions of the plot based on further scores. Here the beta factors from the 4ZLP structure.\n",
    "beta_section = d.run_section({'gene': 'NOTCH3', 'start': 1378, 'end': 1640, 'pdb_id':'4ZLP', 'pdb_chain':'A',\n",
    "                             'included_mutation_types': 'missense',\n",
    "                             'lookup': ProDyLookup(\n",
    "                                 metric='beta_factors',\n",
    "                                 pdb_directory=\"tests/test_data/\",\n",
    "                                 sifts_directory=\"tests/test_data/\"\n",
    "                             )})"
   ]
  },
  {
   "cell_type": "code",
   "execution_count": 72,
   "metadata": {
    "ExecuteTime": {
     "end_time": "2021-10-28T13:52:26.381638Z",
     "start_time": "2021-10-28T13:52:25.624000Z"
    }
   },
   "outputs": [
    {
     "data": {
      "image/png": "[encoded data removed]",
      "text/plain": [
       "<Figure size 360x360 with 1 Axes>"
      ]
     },
     "metadata": {
      "needs_background": "light"
     },
     "output_type": "display_data"
    }
   ],
   "source": [
    "# The observed mutations with a beta factor of between 25 and 30 are now coloured red. \n",
    "plot_scatter_two_scores(bw_section, anm_section, \n",
    "                        sections_for_colours=[beta_section], score_regions_for_colours=[(25, 30)], \n",
    "                        score_region_colours=['r'],\n",
    "                        figsize=(5, 5), \n",
    "                        show_legend=False, plot_yscale='log', \n",
    "                       base_marker_size=30, unmutated_marker_size=2)"
   ]
  },
  {
   "cell_type": "code",
   "execution_count": 73,
   "metadata": {
    "ExecuteTime": {
     "end_time": "2021-10-28T13:52:27.229561Z",
     "start_time": "2021-10-28T13:52:26.385488Z"
    }
   },
   "outputs": [
    {
     "data": {
      "image/png": "[encoded data removed]",
      "text/plain": [
       "<Figure size 360x360 with 1 Axes>"
      ]
     },
     "metadata": {
      "needs_background": "light"
     },
     "output_type": "display_data"
    }
   ],
   "source": [
    "# By setting colour_unmutated_by_scores=True, \n",
    "# all mutations, observed or not, with a beta factor of between 25 and 30 are now coloured red. \n",
    "plot_scatter_two_scores(bw_section, anm_section, \n",
    "                        sections_for_colours=[beta_section], score_regions_for_colours=[(25, 30)], \n",
    "                        score_region_colours=['r'], colour_unmutated_by_scores=True,\n",
    "                        figsize=(5, 5), \n",
    "                        show_legend=False, plot_yscale='log', \n",
    "                       base_marker_size=30, unmutated_marker_size=5)"
   ]
  },
  {
   "cell_type": "markdown",
   "metadata": {},
   "source": [
    "## Using Uniprot data"
   ]
  },
  {
   "cell_type": "markdown",
   "metadata": {},
   "source": [
    "For a quick look for abnormal patterns of mutations in a protein, the mutation locations can be compared to  Uniprot data.  This might reveal an enrichment of mutations in certain domains or on particular features.  "
   ]
  },
  {
   "cell_type": "code",
   "execution_count": 74,
   "metadata": {
    "ExecuteTime": {
     "end_time": "2021-10-28T13:52:27.342656Z",
     "start_time": "2021-10-28T13:52:27.233565Z"
    }
   },
   "outputs": [],
   "source": [
    "from darwinian_shift import uniprot_exploration"
   ]
  },
  {
   "cell_type": "code",
   "execution_count": 75,
   "metadata": {
    "ExecuteTime": {
     "end_time": "2021-10-28T13:52:34.984851Z",
     "start_time": "2021-10-28T13:52:27.350349Z"
    }
   },
   "outputs": [
    {
     "name": "stderr",
     "output_type": "stream",
     "text": [
      "/Users/mh28/miniconda3/envs/dsenv3/lib/python3.8/site-packages/scipy/stats/_discrete_distns.py:67: RuntimeWarning: divide by zero encountered in _binom_pdf\n",
      "  return _boost._binom_pdf(x, n, p)\n"
     ]
    },
    {
     "data": {
      "image/png": "[encoded data removed]",
      "text/plain": [
       "<Figure size 432x288 with 1 Axes>"
      ]
     },
     "metadata": {
      "needs_background": "light"
     },
     "output_type": "display_data"
    }
   ],
   "source": [
    "# This looks at the expected and observed mutations in each type of uniprot feature\n",
    "uni_res = uniprot_exploration(genes='NOTCH3', ds_object=d, plot=True)"
   ]
  },
  {
   "cell_type": "code",
   "execution_count": 76,
   "metadata": {
    "ExecuteTime": {
     "end_time": "2021-10-28T13:52:35.114753Z",
     "start_time": "2021-10-28T13:52:34.987758Z"
    }
   },
   "outputs": [
    {
     "data": {
      "text/html": [
       "<div>\n",
       "<style scoped>\n",
       "    .dataframe tbody tr th:only-of-type {\n",
       "        vertical-align: middle;\n",
       "    }\n",
       "\n",
       "    .dataframe tbody tr th {\n",
       "        vertical-align: top;\n",
       "    }\n",
       "\n",
       "    .dataframe thead th {\n",
       "        text-align: right;\n",
       "    }\n",
       "</style>\n",
       "<table border=\"1\" class=\"dataframe\">\n",
       "  <thead>\n",
       "    <tr style=\"text-align: right;\">\n",
       "      <th></th>\n",
       "      <th>disulfide bond_expected</th>\n",
       "      <th>disulfide bond_observed</th>\n",
       "      <th>disulfide bond_pvalue</th>\n",
       "      <th>disulfide bond_qvalue</th>\n",
       "    </tr>\n",
       "    <tr>\n",
       "      <th>gene</th>\n",
       "      <th></th>\n",
       "      <th></th>\n",
       "      <th></th>\n",
       "      <th></th>\n",
       "    </tr>\n",
       "  </thead>\n",
       "  <tbody>\n",
       "    <tr>\n",
       "      <th>NOTCH3</th>\n",
       "      <td>36.152611</td>\n",
       "      <td>70</td>\n",
       "      <td>5.763533e-08</td>\n",
       "      <td>4.610826e-07</td>\n",
       "    </tr>\n",
       "  </tbody>\n",
       "</table>\n",
       "</div>"
      ],
      "text/plain": [
       "        disulfide bond_expected  disulfide bond_observed  \\\n",
       "gene                                                       \n",
       "NOTCH3                36.152611                       70   \n",
       "\n",
       "        disulfide bond_pvalue  disulfide bond_qvalue  \n",
       "gene                                                  \n",
       "NOTCH3           5.763533e-08           4.610826e-07  "
      ]
     },
     "execution_count": 76,
     "metadata": {},
     "output_type": "execute_result"
    }
   ],
   "source": [
    "# Statistical tests are run for each feature and multiple test correction is run. \n",
    "# For example, there is a significant increase in mutations on disulfide bonds\n",
    "uni_res[[c for c in uni_res.columns if 'disulfide' in c]]"
   ]
  },
  {
   "cell_type": "markdown",
   "metadata": {},
   "source": [
    "The domain definitions from Uniprot can also be used to plot the mutation counts per domain"
   ]
  },
  {
   "cell_type": "code",
   "execution_count": 77,
   "metadata": {
    "ExecuteTime": {
     "end_time": "2021-10-28T13:52:35.228497Z",
     "start_time": "2021-10-28T13:52:35.122038Z"
    }
   },
   "outputs": [],
   "source": [
    "from darwinian_shift import plot_mutation_counts_in_uniprot_features, UniprotLookup"
   ]
  },
  {
   "cell_type": "code",
   "execution_count": 78,
   "metadata": {
    "ExecuteTime": {
     "end_time": "2021-10-28T13:52:37.172918Z",
     "start_time": "2021-10-28T13:52:35.237619Z"
    }
   },
   "outputs": [],
   "source": [
    "# First make a UniprotLookup object, and run/make a section of mutations\n",
    "u = UniprotLookup()\n",
    "\n",
    "# This will load the mutations without running any statistical tests\n",
    "# Could also use a Section object where the tests have been run\n",
    "notch3 = d.make_section(gene='NOTCH3')  "
   ]
  },
  {
   "cell_type": "code",
   "execution_count": 80,
   "metadata": {
    "ExecuteTime": {
     "end_time": "2021-10-28T13:52:58.414223Z",
     "start_time": "2021-10-28T13:52:56.338504Z"
    }
   },
   "outputs": [
    {
     "data": {
      "image/png": "[encoded data removed]",
      "text/plain": [
       "<Figure size 720x216 with 1 Axes>"
      ]
     },
     "metadata": {
      "needs_background": "light"
     },
     "output_type": "display_data"
    }
   ],
   "source": [
    "# Then use this UniprotLookup to get the locations of the features to plot and apply this to the analysed section. \n",
    "# If the features overlap, the function will raise an error. \n",
    "bins, types, descriptions = plot_mutation_counts_in_uniprot_features(notch3, \n",
    "                                                                     u.get_uniprot_data(notch3.transcript_id), \n",
    "                                        feature_types=['domain', 'repeat'], return_bins=True)"
   ]
  },
  {
   "cell_type": "code",
   "execution_count": 81,
   "metadata": {
    "ExecuteTime": {
     "end_time": "2021-10-28T13:53:06.225871Z",
     "start_time": "2021-10-28T13:53:04.303405Z"
    }
   },
   "outputs": [
    {
     "data": {
      "image/png": "[encoded data removed]",
      "text/plain": [
       "<Figure size 720x216 with 1 Axes>"
      ]
     },
     "metadata": {
      "needs_background": "light"
     },
     "output_type": "display_data"
    }
   ],
   "source": [
    "# Can provide the plotting colours. \n",
    "# Here, using the feature descriptions to make the colour list\n",
    "colours = []\n",
    "for de in descriptions:\n",
    "    if de is None:  # Not in a one of the Uniprot features selection\n",
    "        colours.append('#BBBBBB')\n",
    "    elif 'EGF' in de:\n",
    "        colours.append('C0')\n",
    "    elif 'LNR' in de:\n",
    "        colours.append('C1')\n",
    "    elif 'ANK' in de:\n",
    "        colours.append('C2')\n",
    "plot_mutation_counts_in_uniprot_features(notch3, u.get_uniprot_data(notch3.transcript_id), \n",
    "                                        feature_types=['domain', 'repeat'], \n",
    "                                        colours=colours)"
   ]
  },
  {
   "cell_type": "code",
   "execution_count": 82,
   "metadata": {
    "ExecuteTime": {
     "end_time": "2021-10-28T13:53:08.122656Z",
     "start_time": "2021-10-28T13:53:06.234939Z"
    }
   },
   "outputs": [
    {
     "data": {
      "image/png": "[encoded data removed]",
      "text/plain": [
       "<Figure size 720x216 with 1 Axes>"
      ]
     },
     "metadata": {
      "needs_background": "light"
     },
     "output_type": "display_data"
    }
   ],
   "source": [
    "# By default, the number of mutations is divided by the size of the bin. \n",
    "# If normalise_by_region_size=False, the raw counts per region are plotted.\n",
    "plot_mutation_counts_in_uniprot_features(notch3, u.get_uniprot_data(notch3.transcript_id), \n",
    "                                        feature_types=['domain', 'repeat'], \n",
    "                                         colours=colours,\n",
    "                                        normalise_by_region_size=False)"
   ]
  },
  {
   "cell_type": "code",
   "execution_count": 83,
   "metadata": {
    "ExecuteTime": {
     "end_time": "2021-10-28T13:53:11.778703Z",
     "start_time": "2021-10-28T13:53:08.125805Z"
    }
   },
   "outputs": [
    {
     "data": {
      "text/html": [
       "<div>\n",
       "<style scoped>\n",
       "    .dataframe tbody tr th:only-of-type {\n",
       "        vertical-align: middle;\n",
       "    }\n",
       "\n",
       "    .dataframe tbody tr th {\n",
       "        vertical-align: top;\n",
       "    }\n",
       "\n",
       "    .dataframe thead th {\n",
       "        text-align: right;\n",
       "    }\n",
       "</style>\n",
       "<table border=\"1\" class=\"dataframe\">\n",
       "  <thead>\n",
       "    <tr style=\"text-align: right;\">\n",
       "      <th></th>\n",
       "      <th>index</th>\n",
       "      <th>pdb_chain</th>\n",
       "      <th>mutation_flag</th>\n",
       "      <th>title</th>\n",
       "      <th>pdb_id</th>\n",
       "      <th>method</th>\n",
       "      <th>resolution</th>\n",
       "      <th>chains</th>\n",
       "      <th>transcript_id</th>\n",
       "    </tr>\n",
       "  </thead>\n",
       "  <tbody>\n",
       "    <tr>\n",
       "      <th>0</th>\n",
       "      <td>0</td>\n",
       "      <td>A</td>\n",
       "      <td>None</td>\n",
       "      <td>Crystal Structure of Notch3 Negative Regulator...</td>\n",
       "      <td>4ZLP</td>\n",
       "      <td>X-ray</td>\n",
       "      <td>2.48</td>\n",
       "      <td>A/B</td>\n",
       "      <td>ENST00000263388</td>\n",
       "    </tr>\n",
       "    <tr>\n",
       "      <th>1</th>\n",
       "      <td>1</td>\n",
       "      <td>B</td>\n",
       "      <td>None</td>\n",
       "      <td>Crystal Structure of Notch3 Negative Regulator...</td>\n",
       "      <td>4ZLP</td>\n",
       "      <td>X-ray</td>\n",
       "      <td>2.48</td>\n",
       "      <td>A/B</td>\n",
       "      <td>ENST00000263388</td>\n",
       "    </tr>\n",
       "    <tr>\n",
       "      <th>2</th>\n",
       "      <td>0</td>\n",
       "      <td>A</td>\n",
       "      <td>None</td>\n",
       "      <td>Crystal structure of Notch3 NRR in complex wit...</td>\n",
       "      <td>5CZV</td>\n",
       "      <td>X-ray</td>\n",
       "      <td>3.19</td>\n",
       "      <td>A</td>\n",
       "      <td>ENST00000263388</td>\n",
       "    </tr>\n",
       "    <tr>\n",
       "      <th>3</th>\n",
       "      <td>0</td>\n",
       "      <td>A</td>\n",
       "      <td>None</td>\n",
       "      <td>Crystal structure of Notch3 NRR in complex wit...</td>\n",
       "      <td>5CZX</td>\n",
       "      <td>X-ray</td>\n",
       "      <td>2.10</td>\n",
       "      <td>A/B</td>\n",
       "      <td>ENST00000263388</td>\n",
       "    </tr>\n",
       "    <tr>\n",
       "      <th>4</th>\n",
       "      <td>1</td>\n",
       "      <td>B</td>\n",
       "      <td>None</td>\n",
       "      <td>Crystal structure of Notch3 NRR in complex wit...</td>\n",
       "      <td>5CZX</td>\n",
       "      <td>X-ray</td>\n",
       "      <td>2.10</td>\n",
       "      <td>A/B</td>\n",
       "      <td>ENST00000263388</td>\n",
       "    </tr>\n",
       "  </tbody>\n",
       "</table>\n",
       "</div>"
      ],
      "text/plain": [
       "   index pdb_chain mutation_flag  \\\n",
       "0      0         A          None   \n",
       "1      1         B          None   \n",
       "2      0         A          None   \n",
       "3      0         A          None   \n",
       "4      1         B          None   \n",
       "\n",
       "                                               title pdb_id method  \\\n",
       "0  Crystal Structure of Notch3 Negative Regulator...   4ZLP  X-ray   \n",
       "1  Crystal Structure of Notch3 Negative Regulator...   4ZLP  X-ray   \n",
       "2  Crystal structure of Notch3 NRR in complex wit...   5CZV  X-ray   \n",
       "3  Crystal structure of Notch3 NRR in complex wit...   5CZX  X-ray   \n",
       "4  Crystal structure of Notch3 NRR in complex wit...   5CZX  X-ray   \n",
       "\n",
       "   resolution chains    transcript_id  \n",
       "0        2.48    A/B  ENST00000263388  \n",
       "1        2.48    A/B  ENST00000263388  \n",
       "2        3.19      A  ENST00000263388  \n",
       "3        2.10    A/B  ENST00000263388  \n",
       "4        2.10    A/B  ENST00000263388  "
      ]
     },
     "execution_count": 83,
     "metadata": {},
     "output_type": "execute_result"
    }
   ],
   "source": [
    "# Uniprot can also be used to list available protein structures and chains for a gene transcript\n",
    "from darwinian_shift import get_pdb_details\n",
    "get_pdb_details(transcript_id=notch3.transcript_id)"
   ]
  },
  {
   "cell_type": "code",
   "execution_count": 84,
   "metadata": {
    "ExecuteTime": {
     "end_time": "2021-10-28T13:53:17.139050Z",
     "start_time": "2021-10-28T13:53:11.783985Z"
    }
   },
   "outputs": [
    {
     "data": {
      "image/png": "[encoded data removed]",
      "text/plain": [
       "<Figure size 144x216 with 1 Axes>"
      ]
     },
     "metadata": {
      "needs_background": "light"
     },
     "output_type": "display_data"
    }
   ],
   "source": [
    "# Uniprot features can also be used to score mutations for a lookup\n",
    "# Here we can test for enrichment of mutations on disulfide bonds or on glycosylation sites\n",
    "u = UniprotLookup(feature_types=['disulfide bond', 'glycosylation site'])\n",
    "notch3_uniprot = d.run_gene('NOTCH3', lookup=u, statistics=BinomTest())\n",
    "notch3_uniprot.plot_binomial()"
   ]
  },
  {
   "cell_type": "code",
   "execution_count": null,
   "metadata": {},
   "outputs": [],
   "source": []
  }
 ],
 "metadata": {
  "kernelspec": {
   "display_name": "Python 3 (ipykernel)",
   "language": "python",
   "name": "python3"
  },
  "language_info": {
   "codemirror_mode": {
    "name": "ipython",
    "version": 3
   },
   "file_extension": ".py",
   "mimetype": "text/x-python",
   "name": "python",
   "nbconvert_exporter": "python",
   "pygments_lexer": "ipython3",
   "version": "3.8.12"
  }
 },
 "nbformat": 4,
 "nbformat_minor": 2
}
